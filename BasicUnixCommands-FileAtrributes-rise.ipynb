{
 "cells": [
  {
   "cell_type": "markdown",
   "metadata": {
    "slideshow": {
     "slide_type": "slide"
    }
   },
   "source": [
    "# Basic *nix Commands – File Attributes\n"
   ]
  },
  {
   "cell_type": "markdown",
   "metadata": {
    "slideshow": {
     "slide_type": "slide"
    }
   },
   "source": [
    "# Listing of file attributes \n",
    "\n",
    "* `ls -la`\n",
    "\n",
    "<img src='images/file_attributes.png' width=500 />\n"
   ]
  },
  {
   "cell_type": "markdown",
   "metadata": {
    "slideshow": {
     "slide_type": "slide"
    }
   },
   "source": [
    "# File permissions\n",
    "\n",
    "`drwxr-xr-x  5 ubuntu ubuntu 4096 Jan 24 01:29 .c9/`\n"
   ]
  },
  {
   "cell_type": "markdown",
   "metadata": {
    "slideshow": {
     "slide_type": "fragment"
    }
   },
   "source": [
    "## Structure of file permissions string\n",
    "\n",
    "$$\n",
    "\\underbrace{\\mathtt{d}}_{\\mbox{Type of file}}\\overbrace{\\mathtt{rwx}}^{\\mbox{Owner's permissions}}\\underbrace{\\mathtt{r-x}}_{\\mbox{Groups's permissions}}\\overbrace{\\mathtt{r-x}}^{\\mbox{Other's permissions}}\n",
    "$$\n"
   ]
  },
  {
   "cell_type": "markdown",
   "metadata": {
    "slideshow": {
     "slide_type": "subslide"
    }
   },
   "source": [
    "# Change file permissions\n"
   ]
  },
  {
   "cell_type": "markdown",
   "metadata": {
    "slideshow": {
     "slide_type": "fragment"
    }
   },
   "source": [
    "# `chmod` - **ch**ange **mod**e\n",
    "\n",
    "$$\n",
    "\\mathtt{chmod} \\underbrace{\\mathtt{u}}_{\\mbox{Category}} \\overbrace{\\mathtt{+}}^{\\mbox{Operation}} \\underbrace{\\mathtt{x}}_{\\mbox{Permission}} \\mathtt{file}\n",
    "$$\n"
   ]
  },
  {
   "cell_type": "markdown",
   "metadata": {
    "slideshow": {
     "slide_type": "fragment"
    }
   },
   "source": [
    "|Category|Operation|Permission|\n",
    "|:------:|:-------:|:--------:|\n",
    "|`u` – User| `+` – Assigns permission| `r` – Read permission|\n",
    "|`g` – Group| `-` – Removes permission| `w` – Write permission|\n",
    "|`o` – Others| `=` – Assigns absolute permission| `x` – Execute permission|\n",
    "|`a` – All||\n"
   ]
  },
  {
   "cell_type": "markdown",
   "metadata": {
    "slideshow": {
     "slide_type": "subslide"
    }
   },
   "source": [
    "# Octal permissions\n",
    "\n",
    "|Octal|Permissions|Significance|\n",
    "|-----|-----------|------------|\n",
    "|0|`---`|No permissions|\n",
    "|1|`--x`|Execute only|\n",
    "|2|`-w-`|Writable only|\n",
    "|3|`-wx`|Writable and executable|\n",
    "|4|`r--`|Read only|\n",
    "|5|`r-x`|Readable and executable|\n",
    "|6|`rw-`|Readable and writable|\n",
    "|7|`rwx`|Readable, writable, and exec|\n"
   ]
  },
  {
   "cell_type": "markdown",
   "metadata": {
    "slideshow": {
     "slide_type": "slide"
    }
   },
   "source": [
    "# Changing file ownership\n",
    "    \n"
   ]
  },
  {
   "cell_type": "markdown",
   "metadata": {
    "slideshow": {
     "slide_type": "fragment"
    }
   },
   "source": [
    "## `chown` -- change owner\n",
    "\n",
    "* Transfers ownership of a file to a user or group \n",
    "* Examples\n",
    "    * `chown john myFile`\n",
    "    * `chown :admin myFile`\n",
    "    * `chown john:admin myFile`\n",
    "    * `chown -R john:admin myDir`\n"
   ]
  },
  {
   "cell_type": "code",
   "execution_count": null,
   "metadata": {
    "hide_input": true,
    "slideshow": {
     "slide_type": "skip"
    }
   },
   "outputs": [],
   "source": [
    "%%javascript\n",
    "function hideElements(elements, start) {\n",
    "    for(var i = 0, length = elements.length; i < length;i++) {\n",
    "        if(i >= start) {\n",
    "            elements[i].style.display = \"none\";\n",
    "        }\n",
    "    }\n",
    "}\n",
    "\n",
    "var prompt_elements = document.getElementsByClassName(\"prompt\");\n",
    "hideElements(prompt_elements, 0)"
   ]
  }
 ],
 "metadata": {
  "celltoolbar": "Slideshow",
  "kernelspec": {
   "display_name": "Python 3",
   "language": "python",
   "name": "python3"
  },
  "language_info": {
   "codemirror_mode": {
    "name": "ipython",
    "version": 3
   },
   "file_extension": ".py",
   "mimetype": "text/x-python",
   "name": "python",
   "nbconvert_exporter": "python",
   "pygments_lexer": "ipython3",
   "version": "3.6.4"
  },
  "livereveal": {
   "autolaunch": true,
   "footer": "<img src='images/UT.png' width='220'>",
   "progress": true,
   "scroll": true,
   "theme": "simple"
  }
 },
 "nbformat": 4,
 "nbformat_minor": 2
}
