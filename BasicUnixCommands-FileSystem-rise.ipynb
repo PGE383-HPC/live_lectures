{
 "cells": [
  {
   "cell_type": "markdown",
   "metadata": {
    "slideshow": {
     "slide_type": "slide"
    }
   },
   "source": [
    "# Basic *nix Commands - File System\n"
   ]
  },
  {
   "cell_type": "markdown",
   "metadata": {
    "slideshow": {
     "slide_type": "slide"
    }
   },
   "source": [
    "# The File\n",
    "\n",
    "UNIX treats everything as a file... Directories and devices like the hard disk, DVD-ROM, and printer are files to UNIX.\n"
   ]
  },
  {
   "cell_type": "markdown",
   "metadata": {
    "slideshow": {
     "slide_type": "fragment"
    }
   },
   "source": [
    "## Three types of files\n",
    "* Ordinary file\n",
    "    * Also known as a regular file, contains only data as a stream of characters.\n",
    "* Directory file\n",
    "    * A folder containing the names of other files and subdirectories.\n",
    "* Device file\n",
    "    * Represents a device or peripheral.\n"
   ]
  },
  {
   "cell_type": "markdown",
   "metadata": {
    "slideshow": {
     "slide_type": "slide"
    }
   },
   "source": [
    "# The File System Hierarchy\n",
    "UNIX files are organized in a hierarchical (an inverted tree) structure, starting with **root** (`/`)\n",
    "\n",
    "<img src='images/tree.png' width=500/>\n",
    "\n",
    "[Figure Source](https://www.amazon.com/Your-UNIX-Linux-Ultimate-Guide-ebook/dp/B008JFSBFE) S. Das. Your UNIX/Linux: The Ultimate Guide. Third. McGraw-Hill, Inc.,\n"
   ]
  },
  {
   "cell_type": "markdown",
   "metadata": {
    "slideshow": {
     "slide_type": "slide"
    }
   },
   "source": [
    "# Relative Pathnames\n"
   ]
  },
  {
   "cell_type": "markdown",
   "metadata": {
    "slideshow": {
     "slide_type": "fragment"
    }
   },
   "source": [
    "## Relative path shortcuts\n",
    "* `.` (a single dot) represents the current directory \n",
    "* `..` (two dots) represents the parent directory\n"
   ]
  },
  {
   "cell_type": "markdown",
   "metadata": {
    "slideshow": {
     "slide_type": "subslide"
    }
   },
   "source": [
    "## Example\n"
   ]
  },
  {
   "cell_type": "code",
   "execution_count": 1,
   "metadata": {
    "hide_input": false,
    "slideshow": {
     "slide_type": "fragment"
    }
   },
   "outputs": [
    {
     "name": "stdout",
     "output_type": "stream",
     "text": [
      "/Users/john/Documents/HPC_Course/Spring2018/lectures\n"
     ]
    }
   ],
   "source": [
    "%%bash\n",
    "pwd"
   ]
  },
  {
   "cell_type": "code",
   "execution_count": 2,
   "metadata": {
    "hide_input": false,
    "slideshow": {
     "slide_type": "fragment"
    }
   },
   "outputs": [
    {
     "name": "stdout",
     "output_type": "stream",
     "text": [
      "/Users/john/Documents/HPC_Course/Spring2018/lectures/images\n"
     ]
    }
   ],
   "source": [
    "%%bash\n",
    "cd images; \n",
    "pwd"
   ]
  },
  {
   "cell_type": "code",
   "execution_count": 3,
   "metadata": {
    "hide_input": false,
    "slideshow": {
     "slide_type": "fragment"
    }
   },
   "outputs": [
    {
     "name": "stdout",
     "output_type": "stream",
     "text": [
      "/Users/john/Documents/HPC_Course/Spring2018\n"
     ]
    }
   ],
   "source": [
    "%%bash\n",
    "cd ..; \n",
    "pwd"
   ]
  },
  {
   "cell_type": "markdown",
   "metadata": {
    "slideshow": {
     "slide_type": "slide"
    }
   },
   "source": [
    "# Making and removing directories\n"
   ]
  },
  {
   "cell_type": "markdown",
   "metadata": {
    "slideshow": {
     "slide_type": "fragment"
    }
   },
   "source": [
    "## Making directories\n",
    "\n",
    "* `mkdir myDir` (some UNIX OS's are case sensitive by-the-way) \n",
    "    * creates a directory myDir in the current directory\n",
    "* `mkdir myDir1 myDir2`\n",
    "    * creates multiple directories in one command\n",
    "* `mkdir myDir1/myDir2`\n",
    "    * creates `myDir2` inside of `myDir1` (must exist)\n"
   ]
  },
  {
   "cell_type": "markdown",
   "metadata": {
    "slideshow": {
     "slide_type": "fragment"
    }
   },
   "source": [
    "## Removing directories \n",
    "\n",
    "* `rmdir myDir` \n",
    "    * Only works for *empty* directories. (No other files/directories inside) \n",
    "* `rm -R myDir`\n",
    "    *  Use with caution!  You CANNOT recover from `rm`\n"
   ]
  },
  {
   "cell_type": "markdown",
   "metadata": {
    "slideshow": {
     "slide_type": "slide"
    }
   },
   "source": [
    "# Copy and move\n"
   ]
  },
  {
   "cell_type": "markdown",
   "metadata": {
    "slideshow": {
     "slide_type": "fragment"
    }
   },
   "source": [
    "## `cp` - **c**o**p**y\n",
    "\n",
    "* `cp file1 file2`\n",
    "    * Copies `file1` to `file2`\n",
    "* `cp -R myDir1 myDir2`\n",
    "    * `-R` option copies *recursively*, meaning all subdirectories will be copied as well\n"
   ]
  },
  {
   "cell_type": "markdown",
   "metadata": {
    "slideshow": {
     "slide_type": "fragment"
    }
   },
   "source": [
    "##  `mv` - **m**o**v**e\n",
    "\n",
    "* `mv file1 file2`\n",
    "    * When used this way it's basically a rename utility\n",
    "    \n",
    "* `mv file1 file2 myDir`\n",
    "    * Moves `file1` and `file2` into the directory `myDir`\n"
   ]
  },
  {
   "cell_type": "markdown",
   "metadata": {
    "slideshow": {
     "slide_type": "slide"
    }
   },
   "source": [
    "# Deleting files\n"
   ]
  },
  {
   "cell_type": "markdown",
   "metadata": {
    "slideshow": {
     "slide_type": "fragment"
    }
   },
   "source": [
    "## `rm` - **r**e**m**ove\n",
    "\n",
    "* `rm file1 file2`\n",
    "* `rm file*`\n",
    "    * `*` is a wildcard, meaning anything, the command will remove all patterns that match file with anything following.\n",
    "    \n",
    "    * Can be dangerous. With the right permissions `rm -Rf /*` would remove most of the files on your hard drive without warning.\n",
    "    * Protect yourself `rm -i`\n"
   ]
  },
  {
   "cell_type": "code",
   "execution_count": 4,
   "metadata": {
    "hide_input": true,
    "slideshow": {
     "slide_type": "skip"
    }
   },
   "outputs": [
    {
     "data": {
      "application/javascript": [
       "function hideElements(elements, start) {\n",
       "    for(var i = 0, length = elements.length; i < length;i++) {\n",
       "        if(i >= start) {\n",
       "            elements[i].style.display = \"none\";\n",
       "        }\n",
       "    }\n",
       "}\n",
       "\n",
       "var prompt_elements = document.getElementsByClassName(\"prompt\");\n",
       "hideElements(prompt_elements, 0)"
      ],
      "text/plain": [
       "<IPython.core.display.Javascript object>"
      ]
     },
     "metadata": {},
     "output_type": "display_data"
    }
   ],
   "source": [
    "%%javascript\n",
    "function hideElements(elements, start) {\n",
    "    for(var i = 0, length = elements.length; i < length;i++) {\n",
    "        if(i >= start) {\n",
    "            elements[i].style.display = \"none\";\n",
    "        }\n",
    "    }\n",
    "}\n",
    "\n",
    "var prompt_elements = document.getElementsByClassName(\"prompt\");\n",
    "hideElements(prompt_elements, 0)"
   ]
  }
 ],
 "metadata": {
  "celltoolbar": "Slideshow",
  "kernelspec": {
   "display_name": "Python 3",
   "language": "python",
   "name": "python3"
  },
  "language_info": {
   "codemirror_mode": {
    "name": "ipython",
    "version": 3
   },
   "file_extension": ".py",
   "mimetype": "text/x-python",
   "name": "python",
   "nbconvert_exporter": "python",
   "pygments_lexer": "ipython3",
   "version": "3.6.4"
  },
  "livereveal": {
   "footer": "<img src='images/UT.png' width='220'>",
   "progress": true,
   "scroll": true,
   "theme": "simple"
  }
 },
 "nbformat": 4,
 "nbformat_minor": 2
}
