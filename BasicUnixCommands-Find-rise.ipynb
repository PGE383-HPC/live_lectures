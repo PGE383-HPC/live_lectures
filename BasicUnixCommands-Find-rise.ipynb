{
 "cells": [
  {
   "cell_type": "markdown",
   "metadata": {
    "slideshow": {
     "slide_type": "slide"
    }
   },
   "source": [
    "# Basic *nix Commands – `find`\n"
   ]
  },
  {
   "cell_type": "markdown",
   "metadata": {
    "slideshow": {
     "slide_type": "slide"
    }
   },
   "source": [
    "# `find`\n",
    "\n",
    "* `find` recursively examines a directory tree to look for files matching some criteria and then takes action on the selected files.\n",
    "\n",
    "* Has a difficult command line, but can be easily tamed if you break up its arguments into three components:\n"
   ]
  },
  {
   "cell_type": "markdown",
   "metadata": {
    "slideshow": {
     "slide_type": "fragment"
    }
   },
   "source": [
    "## Structure of a `find` command\n",
    "\n",
    "$$\n",
    "\\mathtt{find} \\underbrace{\\mathtt{/home}}_{\\mbox{Path list}} \\overbrace{\\mathtt{-name \\,\\, index.html}}^{\\mbox{Selection criteria}} \\underbrace{\\mathtt{\\,\\,-print}}_{\\mbox{Action}}\n",
    "$$\n"
   ]
  },
  {
   "cell_type": "markdown",
   "metadata": {
    "slideshow": {
     "slide_type": "subslide"
    }
   },
   "source": [
    "# Selection criterion\n",
    "\n",
    "|Selection criterion|Selects file|\n",
    "|-|-|\n",
    "|`-inum n`|Having inode number `n`|\n",
    "|`-type x`|If of type `x`, where `x`is `f`,`d`, or `l`|\n",
    "|`-perm nnn`|If octal permissions match `nnn`|\n",
    "|`-links n`|Having `n` links|\n",
    "|`-user usrname`| If owned by `usrname`|\n",
    "|`-group grpname`| If owned by `grpname`|\n",
    "|`-size +x[c]`| If size greater than `x` blocks (characters if `c` is also specified)|\n",
    "|`-name filename`| filename |\n",
    "|`-iname filename`| Same as above, but case-insensitive|\n",
    "|`-follow`| After following a symbolic link|\n",
    "|`-prune`| But don't descent directory if matched|\n",
    "|`-mount`| But don’t look in other file systems|\n",
    "|`-newer filename`| If modified after filename|\n"
   ]
  },
  {
   "cell_type": "markdown",
   "metadata": {
    "slideshow": {
     "slide_type": "subslide"
    }
   },
   "source": [
    "# Action\n",
    "\n",
    "|Action| Significance|\n",
    "|-|-|\n",
    "|`-print`| Prints selected file to `stdout`|\n",
    "|`-ls`| Executes `ls -lids` command on selected|\n",
    "|`-exec cmd`| Executed UNIX command `cmd` followed by `() \\;`|\n",
    "|`-ok`| Like `cmd`, except that command is executed after user confirmation|\n",
    " \n"
   ]
  },
  {
   "cell_type": "markdown",
   "metadata": {
    "slideshow": {
     "slide_type": "slide"
    }
   },
   "source": [
    "# Operators\n",
    "\n",
    "Selection criterion can be negated or combined with or/and operators `(!, -o, -a)`\n"
   ]
  },
  {
   "cell_type": "markdown",
   "metadata": {
    "slideshow": {
     "slide_type": "fragment"
    }
   },
   "source": [
    "## Negate `(!)`, e.g.\n",
    "\n",
    "* `find . ! -name \"*.c\" -print`\n",
    "\n",
    "    * Selects all but the C program files\n"
   ]
  },
  {
   "cell_type": "markdown",
   "metadata": {
    "slideshow": {
     "slide_type": "fragment"
    }
   },
   "source": [
    "## Or `(-o)`, e.g.\n",
    "\n",
    "* `find /home \\( -name \"*.sh\" -o \"*.pl\" \\) -print`\n",
    "    * Selects files with file extension \".sh\" or \".pl\"\n"
   ]
  },
  {
   "cell_type": "markdown",
   "metadata": {
    "slideshow": {
     "slide_type": "fragment"
    }
   },
   "source": [
    "## And `(-a)`, e.g.\n",
    "\n",
    "* `find /home \\( -name \"^A\" -a \"*.pl\" \\) -print`\n",
    "    * Selects files with file extension \".pl\" that start with capital letter A\n"
   ]
  },
  {
   "cell_type": "code",
   "execution_count": null,
   "metadata": {
    "hide_input": true,
    "slideshow": {
     "slide_type": "skip"
    }
   },
   "outputs": [],
   "source": [
    "%%javascript\n",
    "function hideElements(elements, start) {\n",
    "    for(var i = 0, length = elements.length; i < length;i++) {\n",
    "        if(i >= start) {\n",
    "            elements[i].style.display = \"none\";\n",
    "        }\n",
    "    }\n",
    "}\n",
    "\n",
    "var prompt_elements = document.getElementsByClassName(\"prompt\");\n",
    "hideElements(prompt_elements, 0)"
   ]
  }
 ],
 "metadata": {
  "celltoolbar": "Slideshow",
  "kernelspec": {
   "display_name": "Python 3",
   "language": "python",
   "name": "python3"
  },
  "language_info": {
   "codemirror_mode": {
    "name": "ipython",
    "version": 3
   },
   "file_extension": ".py",
   "mimetype": "text/x-python",
   "name": "python",
   "nbconvert_exporter": "python",
   "pygments_lexer": "ipython3",
   "version": "3.6.4"
  },
  "livereveal": {
   "autolaunch": true,
   "footer": "<img src='images/UT.png' width='220'>",
   "progress": true,
   "scroll": true,
   "theme": "simple"
  }
 },
 "nbformat": 4,
 "nbformat_minor": 2
}
