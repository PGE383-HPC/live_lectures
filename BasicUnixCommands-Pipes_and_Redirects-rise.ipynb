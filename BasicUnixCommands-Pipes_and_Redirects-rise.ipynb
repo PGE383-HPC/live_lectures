{
 "cells": [
  {
   "cell_type": "markdown",
   "metadata": {
    "slideshow": {
     "slide_type": "slide"
    }
   },
   "source": [
    "# Basic *nix Commands – Pipes & Redirects\n"
   ]
  },
  {
   "cell_type": "markdown",
   "metadata": {
    "slideshow": {
     "slide_type": "slide"
    }
   },
   "source": [
    "# Redirection\n"
   ]
  },
  {
   "cell_type": "markdown",
   "metadata": {
    "slideshow": {
     "slide_type": "fragment"
    }
   },
   "source": [
    "## Redirect command output to a file\n",
    "* Think of redirection characters as arrows. \n",
    "* e.g., `ls /dev > test.txt`\n",
    "    * redirects the output of ls into a new file named test.txt\n"
   ]
  },
  {
   "cell_type": "markdown",
   "metadata": {
    "slideshow": {
     "slide_type": "fragment"
    }
   },
   "source": [
    "## Append command **output** to the end of a file\n",
    "* e.g., `ls /proc >> test.txt`\n"
   ]
  },
  {
   "cell_type": "markdown",
   "metadata": {
    "slideshow": {
     "slide_type": "fragment"
    }
   },
   "source": [
    "## Redirect input from other than stdin\n",
    "* Works for commands that normally use keyboard input.\n",
    "* e.g., `echo ‘print ‘‘Hello, World!’’ ’ > hello.py && python < hello.py`\n",
    "    * The && means continue with next command \n"
   ]
  },
  {
   "cell_type": "markdown",
   "metadata": {
    "slideshow": {
     "slide_type": "slide"
    }
   },
   "source": [
    "# std*\n",
    "\n",
    "There are 3 standard I/O file stream descriptors\n"
   ]
  },
  {
   "cell_type": "markdown",
   "metadata": {
    "slideshow": {
     "slide_type": "fragment"
    }
   },
   "source": [
    "## stdin\n",
    "* 0\n",
    "    * Use `<`\n",
    "\n",
    "                      \n"
   ]
  },
  {
   "cell_type": "markdown",
   "metadata": {
    "slideshow": {
     "slide_type": "fragment"
    }
   },
   "source": [
    "## stdout\n",
    "* 1\n",
    "    * `>` is the same as `1>`\n"
   ]
  },
  {
   "cell_type": "markdown",
   "metadata": {
    "slideshow": {
     "slide_type": "fragment"
    }
   },
   "source": [
    "## stderr\n",
    "* 2\n",
    "* Most often used to redirect to nowhere\n",
    "    * e.g., `find / -name ls 2>/dev/null`\n"
   ]
  },
  {
   "cell_type": "markdown",
   "metadata": {
    "slideshow": {
     "slide_type": "slide"
    }
   },
   "source": [
    "# Pipes\n"
   ]
  },
  {
   "cell_type": "markdown",
   "metadata": {
    "slideshow": {
     "slide_type": "fragment"
    }
   },
   "source": [
    "## `|`\n",
    "  \n",
    "* As the name implies, a pipe (`|`) takes the output of one command to the input of another command\n",
    "    * e.g., `ls /usr/sbin | less`\n",
    "    \n",
    "* We can actually write short \"programs\" by stringing pipes\n",
    "together.\n"
   ]
  },
  {
   "cell_type": "markdown",
   "metadata": {
    "slideshow": {
     "slide_type": "fragment"
    }
   },
   "source": [
    "## `tee`\n",
    "\n",
    "* Splits a data stream so it flows both into a specified file and continues as `tee`'s `stdout`\n",
    "\n",
    "* Useful for saving intermediate steps in a long string of pipes.\n",
    "    * e.g., `ls /usr/sbin | tee processes.txt | less`\n"
   ]
  },
  {
   "cell_type": "code",
   "execution_count": null,
   "metadata": {
    "hide_input": true,
    "slideshow": {
     "slide_type": "skip"
    }
   },
   "outputs": [],
   "source": [
    "%%javascript\n",
    "function hideElements(elements, start) {\n",
    "    for(var i = 0, length = elements.length; i < length;i++) {\n",
    "        if(i >= start) {\n",
    "            elements[i].style.display = \"none\";\n",
    "        }\n",
    "    }\n",
    "}\n",
    "\n",
    "var prompt_elements = document.getElementsByClassName(\"prompt\");\n",
    "hideElements(prompt_elements, 0)"
   ]
  }
 ],
 "metadata": {
  "celltoolbar": "Slideshow",
  "kernelspec": {
   "display_name": "Python 3",
   "language": "python",
   "name": "python3"
  },
  "language_info": {
   "codemirror_mode": {
    "name": "ipython",
    "version": 3
   },
   "file_extension": ".py",
   "mimetype": "text/x-python",
   "name": "python",
   "nbconvert_exporter": "python",
   "pygments_lexer": "ipython3",
   "version": "3.6.4"
  },
  "livereveal": {
   "autolaunch": true,
   "footer": "<img src='images/UT.png' width='220'>",
   "progress": true,
   "scroll": true,
   "theme": "simple"
  }
 },
 "nbformat": 4,
 "nbformat_minor": 2
}
