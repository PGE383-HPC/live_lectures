{
 "cells": [
  {
   "cell_type": "markdown",
   "metadata": {
    "slideshow": {
     "slide_type": "slide"
    }
   },
   "source": [
    "# Basic *nix Commands - Regular Expressions\n"
   ]
  },
  {
   "cell_type": "markdown",
   "metadata": {
    "slideshow": {
     "slide_type": "slide"
    }
   },
   "source": [
    "# Regular Expressions\n"
   ]
  },
  {
   "cell_type": "markdown",
   "metadata": {
    "slideshow": {
     "slide_type": "fragment"
    }
   },
   "source": [
    "Regular expressions are the general definition given to the sophisticated pattern matching sequences utilizing metacharacters found in several applications in the UNIX operating system (e.g., find, grep, sed, awk, vi, emacs).\n"
   ]
  },
  {
   "cell_type": "markdown",
   "metadata": {
    "slideshow": {
     "slide_type": "slide"
    }
   },
   "source": [
    "# Common metacharacter usage\n",
    "\n",
    "|Expression|Matches|\n",
    "|:---------|-------|\n",
    "|`*`| Zero or more occurrences of previous character|\n",
    "|`g*`| Nothing or `g`, `gg`, `ggg`, etc.|\n",
    "|`gg*`| `g`, `gg`, `ggg`, etc.|\n",
    "|`.`| A single character|\n",
    "|`.*`| Nothing or any number of characters|\n",
    "|`[abc]`| `a`, `b`, or `c`|\n",
    "|`[1-3]`| A digit between `1` and `3`|\n",
    "|`[^Z]`| Any character except `Z`|\n",
    "|`[^a-zA-Z]` |A nonalphabetic character|\n",
    "|`^DM` | `DM` at the beginning of line |\n",
    "|`bash$`| `bash` at the end of the|\n",
    "|`\\{m\\}`| `m` occurrences of the previous character|\n",
    "|`^.\\{9\\}nobody| `nobody` after skipping nine characters from line beginning|\n",
    "|`\\{m,\\}`| At least `m` occurrences of the previous character|\n",
    "|`\\{m,n\\}`| Between `m` and `n` occurrences of the previous|\n"
   ]
  },
  {
   "cell_type": "markdown",
   "metadata": {
    "slideshow": {
     "slide_type": "slide"
    }
   },
   "source": [
    "# Escaping a metacharacter\n",
    "\n",
    "* What if you want to search on `.` or `*`?\n",
    "  * Use backslack `\\` to escape a metacharacter \n",
    "  * `\\.9` will find all occurrences of `\".9\"`\n"
   ]
  },
  {
   "cell_type": "code",
   "execution_count": null,
   "metadata": {
    "hide_input": true,
    "slideshow": {
     "slide_type": "skip"
    }
   },
   "outputs": [],
   "source": [
    "%%javascript\n",
    "function hideElements(elements, start) {\n",
    "    for(var i = 0, length = elements.length; i < length;i++) {\n",
    "        if(i >= start) {\n",
    "            elements[i].style.display = \"none\";\n",
    "        }\n",
    "    }\n",
    "}\n",
    "\n",
    "var prompt_elements = document.getElementsByClassName(\"prompt\");\n",
    "hideElements(prompt_elements, 0)"
   ]
  }
 ],
 "metadata": {
  "celltoolbar": "Slideshow",
  "kernelspec": {
   "display_name": "Python 3",
   "language": "python",
   "name": "python3"
  },
  "language_info": {
   "codemirror_mode": {
    "name": "ipython",
    "version": 3
   },
   "file_extension": ".py",
   "mimetype": "text/x-python",
   "name": "python",
   "nbconvert_exporter": "python",
   "pygments_lexer": "ipython3",
   "version": "3.5.2"
  },
  "livereveal": {
   "autolaunch": true,
   "footer": "<img src='images/UT.png' width='220'>",
   "progress": true,
   "scroll": true,
   "theme": "simple"
  }
 },
 "nbformat": 4,
 "nbformat_minor": 2
}
