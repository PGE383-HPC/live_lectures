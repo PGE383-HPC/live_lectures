{
 "cells": [
  {
   "cell_type": "markdown",
   "metadata": {
    "slideshow": {
     "slide_type": "slide"
    }
   },
   "source": [
    "# Basic *nix Commands - Users & System\n"
   ]
  },
  {
   "cell_type": "markdown",
   "metadata": {
    "slideshow": {
     "slide_type": "slide"
    }
   },
   "source": [
    "# Who, where, what, when...?\n"
   ]
  },
  {
   "cell_type": "markdown",
   "metadata": {
    "slideshow": {
     "slide_type": "fragment"
    }
   },
   "source": [
    "## Structure of a UNIX command\n",
    "\n",
    "$$\n",
    "\\overbrace{\\mathtt{ls}}^{\\text{Command}} \\quad \\underbrace{{\\overbrace{\\mathtt{-s -t}}^{\\text{Options}} \\quad \\mathtt{arg1 \\quad arg2}}}_{\\text{Arguments}}\n",
    "$$\n"
   ]
  },
  {
   "cell_type": "markdown",
   "metadata": {
    "slideshow": {
     "slide_type": "subslide"
    }
   },
   "source": [
    "# Who?\n"
   ]
  },
  {
   "cell_type": "markdown",
   "metadata": {
    "slideshow": {
     "slide_type": "fragment"
    }
   },
   "source": [
    "## Machine and OS\n",
    "\n",
    "* `hostname` - print the machine's hostname\n",
    "* `uname` -  print other system information\n",
    "    * `uname`- print OS name\n",
    "    * `uname -a` - print **a**ll system information\n",
    "    * `uname -m` - print **m**achine hardware\n",
    "    * `uname -n` - same as `hostname`\n"
   ]
  },
  {
   "cell_type": "markdown",
   "metadata": {
    "slideshow": {
     "slide_type": "fragment"
    }
   },
   "source": [
    "## Users\n",
    "\n",
    "* `passwd` - change your **passw**or**d**\n",
    "* `who` - print logged in users (see also `users`)\n",
    "    * `who am i` - print your own username `whoami`\n",
    "* `finger` - display information about users\n"
   ]
  },
  {
   "cell_type": "markdown",
   "metadata": {
    "slideshow": {
     "slide_type": "subslide"
    }
   },
   "source": [
    "# What?\n"
   ]
  },
  {
   "cell_type": "markdown",
   "metadata": {
    "slideshow": {
     "slide_type": "fragment"
    }
   },
   "source": [
    "## List\n",
    "  \n",
    "* `ls` - **l**i**s**t directory contents\n",
    "    * `ls -a` - list **a**ll\n",
    "    * `ls -A` - list **A**lmost all\n",
    "    * `ls -l` - **l**ong listing format\n"
   ]
  },
  {
   "cell_type": "markdown",
   "metadata": {
    "slideshow": {
     "slide_type": "fragment"
    }
   },
   "source": [
    "* Multiple options can be combined, e.g.\n",
    " * `ls -l -A` $\\equiv$ `ls -lA`\n"
   ]
  },
  {
   "cell_type": "markdown",
   "metadata": {
    "slideshow": {
     "slide_type": "fragment"
    }
   },
   "source": [
    "## Environment variables\n",
    "\n",
    "* The system uses *environment variables* to store system and user information\n",
    "    * define with `export MY_NEW_VAR='myVAr'` (**`bash`** shell)\n",
    "    * access with `$`, e.g. `echo $MY_NEW_VAR`\n"
   ]
  },
  {
   "cell_type": "markdown",
   "metadata": {
    "slideshow": {
     "slide_type": "subslide"
    }
   },
   "source": [
    "# Where?\n"
   ]
  },
  {
   "cell_type": "markdown",
   "metadata": {
    "slideshow": {
     "slide_type": "fragment"
    }
   },
   "source": [
    "## Navigation commands\n",
    "\n",
    "* `pwd` - **p**rint **w**orking **d**irectory \n",
    "* `cd` - **c**hange **d**irectory\n",
    "    * `cd $HOME` or better, `cd ∼`, even better `cd`\n",
    "    * `cd ∼-` - go to previous directory \n",
    "    * `cd ..` - go up one level\n",
    "    \n",
    "* Absolute *paths* (directory structures) start with `/`, the *root* directory\n"
   ]
  },
  {
   "cell_type": "markdown",
   "metadata": {
    "slideshow": {
     "slide_type": "subslide"
    }
   },
   "source": [
    "# When?\n"
   ]
  },
  {
   "cell_type": "markdown",
   "metadata": {
    "slideshow": {
     "slide_type": "fragment"
    }
   },
   "source": [
    "## Date\n",
    "\n",
    "* `date` -- display the full date\n",
    "    * `date +%m` – the `+%m` is a format specifier instruction to only print the month number\n",
    "    * `date +%h` – the `+%h` is a format specifier instruction to only print the month string \n"
   ]
  },
  {
   "cell_type": "markdown",
   "metadata": {
    "slideshow": {
     "slide_type": "slide"
    }
   },
   "source": [
    "# Getting Help\n"
   ]
  },
  {
   "cell_type": "markdown",
   "metadata": {
    "slideshow": {
     "slide_type": "fragment"
    }
   },
   "source": [
    "## `man` documentation\n",
    "\n",
    "* `man ls` - brings up the `man`ual pages for `ls`\n"
   ]
  },
  {
   "cell_type": "markdown",
   "metadata": {
    "slideshow": {
     "slide_type": "fragment"
    }
   },
   "source": [
    "## Use Google!\n",
    "\n",
    "* Use good keyword strings \"Linux ls\" or \"Unix echo\"\n"
   ]
  },
  {
   "cell_type": "code",
   "execution_count": null,
   "metadata": {
    "hide_input": true,
    "slideshow": {
     "slide_type": "skip"
    }
   },
   "outputs": [],
   "source": [
    "%%javascript\n",
    "function hideElements(elements, start) {\n",
    "    for(var i = 0, length = elements.length; i < length;i++) {\n",
    "        if(i >= start) {\n",
    "            elements[i].style.display = \"none\";\n",
    "        }\n",
    "    }\n",
    "}\n",
    "\n",
    "var prompt_elements = document.getElementsByClassName(\"prompt\");\n",
    "hideElements(prompt_elements, 0)"
   ]
  }
 ],
 "metadata": {
  "celltoolbar": "Slideshow",
  "kernelspec": {
   "display_name": "Python 3",
   "language": "python",
   "name": "python3"
  },
  "language_info": {
   "codemirror_mode": {
    "name": "ipython",
    "version": 3
   },
   "file_extension": ".py",
   "mimetype": "text/x-python",
   "name": "python",
   "nbconvert_exporter": "python",
   "pygments_lexer": "ipython3",
   "version": "3.6.4"
  },
  "livereveal": {
   "footer": "<img src='images/UT.png' width='220'>",
   "progress": true,
   "scroll": true,
   "theme": "simple"
  }
 },
 "nbformat": 4,
 "nbformat_minor": 2
}
