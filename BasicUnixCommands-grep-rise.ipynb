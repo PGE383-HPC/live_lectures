{
 "cells": [
  {
   "cell_type": "markdown",
   "metadata": {
    "slideshow": {
     "slide_type": "slide"
    }
   },
   "source": [
    "# Basic *nix Commands - `grep` \n"
   ]
  },
  {
   "cell_type": "markdown",
   "metadata": {
    "slideshow": {
     "slide_type": "slide"
    }
   },
   "source": [
    "# `grep`\n",
    "\n",
    "* **g**lobal **r**egular **e**xpresion **p**rint\n",
    "* `grep` scans its input for a pattern, and can display the selected pattern, the line numbers, or the filenames where  the pattern occurs.\n"
   ]
  },
  {
   "cell_type": "markdown",
   "metadata": {
    "slideshow": {
     "slide_type": "fragment"
    }
   },
   "source": [
    "## Structure of a `grep` command\n",
    "\n",
    "$$\n",
    "\\mathtt{grep} \\qquad \\underbrace{\\mathtt{-i}}_{\\mbox{Options}} \\qquad \\overbrace{\\mathtt{pat}}_{\\mbox{Pattern}} \\qquad \\underbrace{\\mathtt{*.c}}_{\\mbox{filename(s)}}\n",
    "$$\n"
   ]
  },
  {
   "cell_type": "markdown",
   "metadata": {
    "slideshow": {
     "slide_type": "slide"
    }
   },
   "source": [
    "# `grep` options\n",
    "\n",
    "|Option |Significance|\n",
    "|:------|------------|\n",
    "|`-i`| Ignores case for matching|\n",
    "|`-v`| Doesn’t display line matching expression|\n",
    "|`-n`| Displays line numbers along with lines|\n",
    "|`-c`| Displays count of number of occurrences|\n",
    "|`-l`| Displays list of filenames only|\n",
    "|`-e exp`| Displays `exp` with this option. Can be used multiple times. Also used for expression beginning with a hyphen.|\n",
    "|`-x`| Matches pattern with entire line|\n",
    "|`-f`| file Takes patterns from a file, one per line|\n"
   ]
  },
  {
   "cell_type": "markdown",
   "metadata": {
    "slideshow": {
     "slide_type": "slide"
    }
   },
   "source": [
    "# Comments \n",
    "\n",
    "* You can use regular expressions in patterns and filenames\n",
    "\n",
    "  ````\n",
    "  grep \"wo[od][de]house\" *.c\n",
    "  ````\n",
    "  \n",
    "  Will print all matches to either `woodhouse` or `wodehouse` in all the C program files located in the current directory.\n",
    "  \n",
    "\n",
    "* Works well with pipe (`|`)\n",
    "  \n",
    "  ````\n",
    "  ls /usr/bin | grep gcc\n",
    "  ````\n",
    "  \n",
    "  Prints all executables in `/usr/local` with `gcc` in the command name.\n",
    "  \n",
    "  \n",
    "* Works well with (`-exec (-ok)`) command with `find`\n",
    "    * Use find to `find` a file matching some regular expression then use `grep` to look inside the file for an additional pattern.\n",
    "    \n",
    "    \n",
    "* See also: the Perl script `ack` \n",
    "    * A better `grep`.\n"
   ]
  },
  {
   "cell_type": "code",
   "execution_count": null,
   "metadata": {
    "hide_input": true,
    "slideshow": {
     "slide_type": "skip"
    }
   },
   "outputs": [],
   "source": [
    "%%javascript\n",
    "function hideElements(elements, start) {\n",
    "    for(var i = 0, length = elements.length; i < length;i++) {\n",
    "        if(i >= start) {\n",
    "            elements[i].style.display = \"none\";\n",
    "        }\n",
    "    }\n",
    "}\n",
    "\n",
    "var prompt_elements = document.getElementsByClassName(\"prompt\");\n",
    "hideElements(prompt_elements, 0)"
   ]
  }
 ],
 "metadata": {
  "celltoolbar": "Slideshow",
  "kernelspec": {
   "display_name": "Python 3",
   "language": "python",
   "name": "python3"
  },
  "language_info": {
   "codemirror_mode": {
    "name": "ipython",
    "version": 3
   },
   "file_extension": ".py",
   "mimetype": "text/x-python",
   "name": "python",
   "nbconvert_exporter": "python",
   "pygments_lexer": "ipython3",
   "version": "3.5.2"
  },
  "livereveal": {
   "autolaunch": true,
   "footer": "<img src='images/UT.png' width='220'>",
   "progress": true,
   "scroll": true,
   "theme": "simple"
  }
 },
 "nbformat": 4,
 "nbformat_minor": 2
}
