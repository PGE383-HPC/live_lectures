{
 "cells": [
  {
   "cell_type": "markdown",
   "metadata": {
    "slideshow": {
     "slide_type": "slide"
    }
   },
   "source": [
    "# CFFI - C Foreign Function Interface\n"
   ]
  },
  {
   "cell_type": "markdown",
   "metadata": {
    "slideshow": {
     "slide_type": "subslide"
    }
   },
   "source": [
    "# Goal: call C code from Python without learning a 3rd language\n",
    "\n",
    " * SWIG requires to you to learn some additional syntax to create interface files\n"
   ]
  },
  {
   "cell_type": "markdown",
   "metadata": {
    "slideshow": {
     "slide_type": "subslide"
    }
   },
   "source": [
    "# Two Modes\n",
    "\n",
    " * Application Binary Interface (ABI)\n",
    " * Application Progamming Interface (API) -- **Preferred**\n"
   ]
  },
  {
   "cell_type": "markdown",
   "metadata": {
    "slideshow": {
     "slide_type": "slide"
    }
   },
   "source": [
    "# ABI Example\n",
    "\n",
    "Calls an *existing* C library.  In this case, we'll create it.  First, write a C file:\n"
   ]
  },
  {
   "cell_type": "code",
   "execution_count": 4,
   "metadata": {
    "hide_input": false,
    "slideshow": {
     "slide_type": "-"
    }
   },
   "outputs": [
    {
     "name": "stdout",
     "output_type": "stream",
     "text": [
      "Overwriting mkl_multiply.c\n"
     ]
    }
   ],
   "source": [
    "%%file mkl_multiply.c\n",
    "#include \"mkl.h\"\n",
    "\n",
    "void mkl_multiply(const int n, const double *x, const double *y, double *result){\n",
    "    const MKL_INT n_ = (const MKL_INT) n;\n",
    "    vdMul(n, x, y, result);\n",
    "}"
   ]
  },
  {
   "cell_type": "markdown",
   "metadata": {
    "slideshow": {
     "slide_type": "fragment"
    }
   },
   "source": [
    "Compile the C file into a shared library\n"
   ]
  },
  {
   "cell_type": "code",
   "execution_count": 5,
   "metadata": {
    "hide_input": false,
    "slideshow": {
     "slide_type": "-"
    }
   },
   "outputs": [],
   "source": [
    "%%bash\n",
    "gcc mkl_multiply.c -shared -o mkl_multiply.so -I${CONDA_PREFIX}/include -L${CONDA_PREFIX}/lib  -lmkl_rt "
   ]
  },
  {
   "cell_type": "code",
   "execution_count": 6,
   "metadata": {
    "hide_input": false
   },
   "outputs": [
    {
     "name": "stdout",
     "output_type": "stream",
     "text": [
      "mkl_multiply.c   \u001b[31mmkl_multiply.so\u001b[m\u001b[m*\r\n"
     ]
    }
   ],
   "source": [
    "%ls mkl_multiply*"
   ]
  },
  {
   "cell_type": "markdown",
   "metadata": {
    "slideshow": {
     "slide_type": "subslide"
    }
   },
   "source": [
    "# ABI Example (cont.)\n",
    "\n",
    "Import FFI, load library, and define functions to be shared between Python and C\n"
   ]
  },
  {
   "cell_type": "code",
   "execution_count": 7,
   "metadata": {
    "hide_input": false,
    "slideshow": {
     "slide_type": "-"
    }
   },
   "outputs": [],
   "source": [
    "from cffi import FFI\n",
    "ffi = FFI()\n",
    "mkl = ffi.dlopen('mkl_multiply.so')\n",
    "ffi.cdef(\"\"\"\n",
    "         void mkl_multiply(const int n, const double *x, const double *y, double *result);\n",
    "\"\"\")"
   ]
  },
  {
   "cell_type": "markdown",
   "metadata": {
    "slideshow": {
     "slide_type": "-"
    }
   },
   "source": [
    "Import numpy, create some arrays, and cast them to C data types.\n"
   ]
  },
  {
   "cell_type": "code",
   "execution_count": 10,
   "metadata": {
    "hide_input": false,
    "slideshow": {
     "slide_type": "-"
    }
   },
   "outputs": [],
   "source": [
    "import numpy as np\n",
    "\n",
    "N = 100\n",
    "\n",
    "x = np.arange(N, dtype=np.double)\n",
    "y = np.arange(N, dtype=np.double)\n",
    "result = np.empty_like(x)\n",
    "\n",
    "x_ = ffi.cast(\"const double*\", ffi.from_buffer(x))\n",
    "y_ = ffi.cast(\"const double*\", ffi.from_buffer(y))\n",
    "result_ = ffi.cast(\"double *\", ffi.from_buffer(result))\n"
   ]
  },
  {
   "cell_type": "markdown",
   "metadata": {
    "slideshow": {
     "slide_type": "subslide"
    }
   },
   "source": [
    "# ABI Example (cont.)\n",
    "\n",
    "Test the function\n"
   ]
  },
  {
   "cell_type": "code",
   "execution_count": 11,
   "metadata": {
    "hide_input": false,
    "slideshow": {
     "slide_type": "-"
    }
   },
   "outputs": [
    {
     "name": "stdout",
     "output_type": "stream",
     "text": [
      "577 ns ± 95 ns per loop (mean ± std. dev. of 7 runs, 1000000 loops each)\n"
     ]
    }
   ],
   "source": [
    "%%timeit\n",
    "mkl.mkl_multiply(N,  x_, y_, result_)"
   ]
  },
  {
   "cell_type": "markdown",
   "metadata": {},
   "source": [
    "Compare the numpy\n"
   ]
  },
  {
   "cell_type": "code",
   "execution_count": 12,
   "metadata": {
    "hide_input": false,
    "slideshow": {
     "slide_type": "-"
    }
   },
   "outputs": [
    {
     "name": "stdout",
     "output_type": "stream",
     "text": [
      "520 ns ± 25.5 ns per loop (mean ± std. dev. of 7 runs, 1000000 loops each)\n"
     ]
    }
   ],
   "source": [
    "%timeit x*y"
   ]
  },
  {
   "cell_type": "markdown",
   "metadata": {},
   "source": [
    "Compare to pure Python\n"
   ]
  },
  {
   "cell_type": "code",
   "execution_count": 13,
   "metadata": {
    "hide_input": false,
    "slideshow": {
     "slide_type": "-"
    }
   },
   "outputs": [
    {
     "name": "stdout",
     "output_type": "stream",
     "text": [
      "35.2 µs ± 3.45 µs per loop (mean ± std. dev. of 7 runs, 10000 loops each)\n"
     ]
    }
   ],
   "source": [
    "%%timeit\n",
    "for i in range(N):\n",
    "    result[i] = x[i] * y[i]"
   ]
  },
  {
   "cell_type": "markdown",
   "metadata": {
    "slideshow": {
     "slide_type": "slide"
    }
   },
   "source": [
    "# API Example\n",
    "\n",
    "Create a \"builder\" Python script that includes the C source and the shared Python/C definitions, that is compiled into a single wrapper.\n"
   ]
  },
  {
   "cell_type": "code",
   "execution_count": 14,
   "metadata": {
    "hide_input": false,
    "slideshow": {
     "slide_type": "-"
    }
   },
   "outputs": [
    {
     "name": "stdout",
     "output_type": "stream",
     "text": [
      "Writing mkl_multiply_builder.py\n"
     ]
    }
   ],
   "source": [
    "%%file mkl_multiply_builder.py\n",
    "import os\n",
    "from cffi import FFI\n",
    "ffibuilder = FFI()\n",
    "\n",
    "ffibuilder.set_source(\"mkl_multiply\",\n",
    "   r\"\"\"\n",
    "   #include \"mkl.h\"\n",
    "\n",
    "   void mkl_multiply(const int n, const double *x, const double *y, double *result){\n",
    "        const MKL_INT n_ = (const MKL_INT) n;\n",
    "        vdMul(n_, x, y, result);\n",
    "   }\n",
    "   \"\"\", \n",
    "   library_dirs=[os.environ['CONDA_PREFIX'] + '/lib'],\n",
    "   include_dirs=[os.environ['CONDA_PREFIX'] + '/include'],\n",
    "   libraries=['mkl_rt'])\n",
    "\n",
    "ffibuilder.cdef(\"\"\"\n",
    "    void mkl_multiply(const int n, const double *x, const double *y, double *result);\n",
    "\"\"\")\n",
    "\n",
    "if __name__ == \"__main__\":\n",
    "    ffibuilder.compile(verbose=True)"
   ]
  },
  {
   "cell_type": "markdown",
   "metadata": {
    "slideshow": {
     "slide_type": "subslide"
    }
   },
   "source": [
    "# API Example (cont.)\n",
    "\n",
    "Run the builder script\n"
   ]
  },
  {
   "cell_type": "code",
   "execution_count": 15,
   "metadata": {
    "hide_input": false,
    "slideshow": {
     "slide_type": "-"
    }
   },
   "outputs": [
    {
     "name": "stdout",
     "output_type": "stream",
     "text": [
      "generating ./mkl_multiply.c\n",
      "the current directory is '/Users/john/Documents/HPC_Course/Spring2018/lectures'\n",
      "running build_ext\n",
      "building 'mkl_multiply' extension\n",
      "gcc -Wno-unused-result -Wsign-compare -Wunreachable-code -DNDEBUG -g -fwrapv -O3 -Wall -Wstrict-prototypes -I/Users/john/miniconda3/envs/PGE383/include -arch x86_64 -I/Users/john/miniconda3/envs/PGE383/include -arch x86_64 -I/Users/john/miniconda3/envs/PGE383/include -I/Users/john/miniconda3/envs/PGE383/include/python3.6m -c mkl_multiply.c -o ./mkl_multiply.o\n",
      "gcc -bundle -undefined dynamic_lookup -L/Users/john/miniconda3/envs/PGE383/lib -arch x86_64 -L/Users/john/miniconda3/envs/PGE383/lib -arch x86_64 -arch x86_64 ./mkl_multiply.o -L/Users/john/miniconda3/envs/PGE383/lib -lmkl_rt -o ./mkl_multiply.cpython-36m-darwin.so\n"
     ]
    }
   ],
   "source": [
    "%run mkl_multiply_builder.py"
   ]
  },
  {
   "cell_type": "code",
   "execution_count": 16,
   "metadata": {
    "hide_input": false,
    "slideshow": {
     "slide_type": "-"
    }
   },
   "outputs": [
    {
     "name": "stdout",
     "output_type": "stream",
     "text": [
      "mkl_multiply.c                      \u001b[31mmkl_multiply.so\u001b[m\u001b[m*\r\n",
      "\u001b[31mmkl_multiply.cpython-36m-darwin.so\u001b[m\u001b[m* mkl_multiply_builder.py\r\n",
      "mkl_multiply.o\r\n"
     ]
    }
   ],
   "source": [
    "%ls mkl_multiply*"
   ]
  },
  {
   "cell_type": "markdown",
   "metadata": {
    "slideshow": {
     "slide_type": "subslide"
    }
   },
   "source": [
    "# API Example (cont.)\n",
    "\n",
    "Import the the library.  Notice there is no call to `dlopen()`.\n"
   ]
  },
  {
   "cell_type": "code",
   "execution_count": 17,
   "metadata": {
    "hide_input": false,
    "slideshow": {
     "slide_type": "-"
    }
   },
   "outputs": [],
   "source": [
    "from mkl_multiply import lib as mkl"
   ]
  },
  {
   "cell_type": "markdown",
   "metadata": {
    "slideshow": {
     "slide_type": "-"
    }
   },
   "source": [
    "Test the function.\n"
   ]
  },
  {
   "cell_type": "code",
   "execution_count": 18,
   "metadata": {
    "hide_input": false,
    "slideshow": {
     "slide_type": "-"
    }
   },
   "outputs": [
    {
     "name": "stdout",
     "output_type": "stream",
     "text": [
      "381 ns ± 28.1 ns per loop (mean ± std. dev. of 7 runs, 1000000 loops each)\n"
     ]
    }
   ],
   "source": [
    "%%timeit\n",
    "mkl.mkl_multiply(N, x_, y_, result_)"
   ]
  },
  {
   "cell_type": "code",
   "execution_count": 19,
   "metadata": {
    "hide_input": false,
    "slideshow": {
     "slide_type": "-"
    }
   },
   "outputs": [
    {
     "data": {
      "text/plain": [
       "array([0.000e+00, 1.000e+00, 4.000e+00, 9.000e+00, 1.600e+01, 2.500e+01,\n",
       "       3.600e+01, 4.900e+01, 6.400e+01, 8.100e+01, 1.000e+02, 1.210e+02,\n",
       "       1.440e+02, 1.690e+02, 1.960e+02, 2.250e+02, 2.560e+02, 2.890e+02,\n",
       "       3.240e+02, 3.610e+02, 4.000e+02, 4.410e+02, 4.840e+02, 5.290e+02,\n",
       "       5.760e+02, 6.250e+02, 6.760e+02, 7.290e+02, 7.840e+02, 8.410e+02,\n",
       "       9.000e+02, 9.610e+02, 1.024e+03, 1.089e+03, 1.156e+03, 1.225e+03,\n",
       "       1.296e+03, 1.369e+03, 1.444e+03, 1.521e+03, 1.600e+03, 1.681e+03,\n",
       "       1.764e+03, 1.849e+03, 1.936e+03, 2.025e+03, 2.116e+03, 2.209e+03,\n",
       "       2.304e+03, 2.401e+03, 2.500e+03, 2.601e+03, 2.704e+03, 2.809e+03,\n",
       "       2.916e+03, 3.025e+03, 3.136e+03, 3.249e+03, 3.364e+03, 3.481e+03,\n",
       "       3.600e+03, 3.721e+03, 3.844e+03, 3.969e+03, 4.096e+03, 4.225e+03,\n",
       "       4.356e+03, 4.489e+03, 4.624e+03, 4.761e+03, 4.900e+03, 5.041e+03,\n",
       "       5.184e+03, 5.329e+03, 5.476e+03, 5.625e+03, 5.776e+03, 5.929e+03,\n",
       "       6.084e+03, 6.241e+03, 6.400e+03, 6.561e+03, 6.724e+03, 6.889e+03,\n",
       "       7.056e+03, 7.225e+03, 7.396e+03, 7.569e+03, 7.744e+03, 7.921e+03,\n",
       "       8.100e+03, 8.281e+03, 8.464e+03, 8.649e+03, 8.836e+03, 9.025e+03,\n",
       "       9.216e+03, 9.409e+03, 9.604e+03, 9.801e+03])"
      ]
     },
     "execution_count": 19,
     "metadata": {},
     "output_type": "execute_result"
    }
   ],
   "source": [
    "result"
   ]
  },
  {
   "cell_type": "markdown",
   "metadata": {
    "slideshow": {
     "slide_type": "slide"
    }
   },
   "source": [
    "# More Information\n",
    "\n",
    " * [CFFI Documentation](https://cffi.readthedocs.io/en/latest/)\n"
   ]
  },
  {
   "cell_type": "code",
   "execution_count": 20,
   "metadata": {
    "hide_input": true,
    "init_cell": true,
    "slideshow": {
     "slide_type": "skip"
    }
   },
   "outputs": [
    {
     "data": {
      "application/javascript": [
       "function hideElements(elements, start) {\n",
       "    for(var i = 0, length = elements.length; i < length;i++) {\n",
       "        if(i >= start) {\n",
       "            elements[i].style.display = \"none\";\n",
       "        }\n",
       "    }\n",
       "}\n",
       "\n",
       "var prompt_elements = document.getElementsByClassName(\"prompt\");\n",
       "hideElements(prompt_elements, 0)"
      ],
      "text/plain": [
       "<IPython.core.display.Javascript object>"
      ]
     },
     "metadata": {},
     "output_type": "display_data"
    }
   ],
   "source": [
    "%%javascript\n",
    "function hideElements(elements, start) {\n",
    "    for(var i = 0, length = elements.length; i < length;i++) {\n",
    "        if(i >= start) {\n",
    "            elements[i].style.display = \"none\";\n",
    "        }\n",
    "    }\n",
    "}\n",
    "\n",
    "var prompt_elements = document.getElementsByClassName(\"prompt\");\n",
    "hideElements(prompt_elements, 0)"
   ]
  }
 ],
 "metadata": {
  "kernelspec": {
   "display_name": "Python 3",
   "language": "python",
   "name": "python3"
  },
  "language_info": {
   "codemirror_mode": {
    "name": "ipython",
    "version": 3
   },
   "file_extension": ".py",
   "mimetype": "text/x-python",
   "name": "python",
   "nbconvert_exporter": "python",
   "pygments_lexer": "ipython3",
   "version": "3.6.4"
  },
  "livereveal": {
   "autolaunch": true,
   "footer": "<img src='images/UT.png' width='220'>",
   "progress": true,
   "scroll": true,
   "theme": "simple"
  }
 },
 "nbformat": 4,
 "nbformat_minor": 2
}
