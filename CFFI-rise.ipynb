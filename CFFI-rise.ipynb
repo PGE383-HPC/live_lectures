{
 "cells": [
  {
   "cell_type": "markdown",
   "metadata": {
    "slideshow": {
     "slide_type": "slide"
    }
   },
   "source": [
    "# CFFI - C Foreign Function Interface\n"
   ]
  },
  {
   "cell_type": "markdown",
   "metadata": {
    "slideshow": {
     "slide_type": "subslide"
    }
   },
   "source": [
    "# Goal: call C code from Python without learning a 3rd language\n",
    "\n",
    " * SWIG requires to you to learn some additional syntax to create interface files\n"
   ]
  },
  {
   "cell_type": "markdown",
   "metadata": {
    "slideshow": {
     "slide_type": "subslide"
    }
   },
   "source": [
    "# Two Modes\n",
    "\n",
    " * Application Binary Interface (ABI)\n",
    " * Application Progamming Interface (API) -- **Preferred**\n"
   ]
  },
  {
   "cell_type": "markdown",
   "metadata": {
    "slideshow": {
     "slide_type": "slide"
    }
   },
   "source": [
    "# ABI Example\n",
    "\n",
    "Calls an *existing* C library.  In this case, we'll create it.  First, write a C file:\n"
   ]
  },
  {
   "cell_type": "code",
   "execution_count": null,
   "metadata": {
    "hide_input": false,
    "slideshow": {
     "slide_type": "-"
    }
   },
   "outputs": [],
   "source": [
    "%%file mkl_multiply.c\n",
    "#include \"mkl.h\"\n",
    "\n",
    "void mkl_multiply(const int n, const double *x, const double *y, double *result){\n",
    "    const MKL_INT n_ = (const MKL_INT) n;\n",
    "    vdMul(n, x, y, result);\n",
    "}"
   ]
  },
  {
   "cell_type": "markdown",
   "metadata": {
    "slideshow": {
     "slide_type": "fragment"
    }
   },
   "source": [
    "Compile the C file into a shared library\n"
   ]
  },
  {
   "cell_type": "code",
   "execution_count": null,
   "metadata": {
    "hide_input": false,
    "slideshow": {
     "slide_type": "-"
    }
   },
   "outputs": [],
   "source": [
    "%%bash\n",
    "gcc mkl_multiply.c -shared -o mkl_multiply.so -I${CONDA_PREFIX}/include -L${CONDA_PREFIX}/lib  -lmkl_rt -fPIC"
   ]
  },
  {
   "cell_type": "code",
   "execution_count": null,
   "metadata": {
    "hide_input": false
   },
   "outputs": [],
   "source": [
    "%ls mkl_multiply*"
   ]
  },
  {
   "cell_type": "markdown",
   "metadata": {
    "slideshow": {
     "slide_type": "subslide"
    }
   },
   "source": [
    "# ABI Example (cont.)\n",
    "\n",
    "Import FFI, load library, and define functions to be shared between Python and C\n"
   ]
  },
  {
   "cell_type": "code",
   "execution_count": null,
   "metadata": {
    "hide_input": false,
    "slideshow": {
     "slide_type": "-"
    }
   },
   "outputs": [],
   "source": [
    "from cffi import FFI\n",
    "ffi = FFI()\n",
    "mkl = ffi.dlopen('./mkl_multiply.so')\n",
    "ffi.cdef(\"\"\"\n",
    "         void mkl_multiply(const int n, const double *x, const double *y, double *result);\n",
    "\"\"\")"
   ]
  },
  {
   "cell_type": "markdown",
   "metadata": {
    "slideshow": {
     "slide_type": "-"
    }
   },
   "source": [
    "Import numpy, create some arrays, and cast them to C data types.\n"
   ]
  },
  {
   "cell_type": "code",
   "execution_count": null,
   "metadata": {
    "hide_input": false,
    "slideshow": {
     "slide_type": "-"
    }
   },
   "outputs": [],
   "source": [
    "import numpy as np\n",
    "\n",
    "N = 100\n",
    "\n",
    "x = np.arange(N, dtype=np.double)\n",
    "y = np.arange(N, dtype=np.double)\n",
    "result = np.empty_like(x)\n",
    "\n",
    "x_ = ffi.cast(\"const double*\", ffi.from_buffer(x))\n",
    "y_ = ffi.cast(\"const double*\", ffi.from_buffer(y))\n",
    "result_ = ffi.cast(\"double *\", ffi.from_buffer(result))"
   ]
  },
  {
   "cell_type": "markdown",
   "metadata": {
    "slideshow": {
     "slide_type": "subslide"
    }
   },
   "source": [
    "# ABI Example (cont.)\n",
    "\n",
    "Test the function\n"
   ]
  },
  {
   "cell_type": "code",
   "execution_count": null,
   "metadata": {
    "hide_input": false,
    "slideshow": {
     "slide_type": "-"
    }
   },
   "outputs": [],
   "source": [
    "%%timeit\n",
    "mkl.mkl_multiply(N,  x_, y_, result_)"
   ]
  },
  {
   "cell_type": "markdown",
   "metadata": {},
   "source": [
    "Compare the numpy\n"
   ]
  },
  {
   "cell_type": "code",
   "execution_count": null,
   "metadata": {
    "hide_input": false,
    "slideshow": {
     "slide_type": "-"
    }
   },
   "outputs": [],
   "source": [
    "%timeit x*y"
   ]
  },
  {
   "cell_type": "markdown",
   "metadata": {},
   "source": [
    "Compare to pure Python\n"
   ]
  },
  {
   "cell_type": "code",
   "execution_count": null,
   "metadata": {
    "hide_input": false,
    "slideshow": {
     "slide_type": "-"
    }
   },
   "outputs": [],
   "source": [
    "%%timeit\n",
    "for i in range(N):\n",
    "    result[i] = x[i] * y[i]"
   ]
  },
  {
   "cell_type": "markdown",
   "metadata": {
    "slideshow": {
     "slide_type": "slide"
    }
   },
   "source": [
    "# API Example\n",
    "\n",
    "Create a \"builder\" Python script that includes the C source and the shared Python/C definitions, that is compiled into a single wrapper.\n"
   ]
  },
  {
   "cell_type": "code",
   "execution_count": null,
   "metadata": {
    "hide_input": false,
    "slideshow": {
     "slide_type": "-"
    }
   },
   "outputs": [],
   "source": [
    "%%file mkl_multiply_builder.py\n",
    "import os\n",
    "from cffi import FFI\n",
    "ffibuilder = FFI()\n",
    "\n",
    "ffibuilder.set_source(\"mkl_multiply\",\n",
    "   r\"\"\"\n",
    "   #include \"mkl.h\"\n",
    "\n",
    "   void mkl_multiply(const int n, const double *x, const double *y, double *result){\n",
    "        const MKL_INT n_ = (const MKL_INT) n;\n",
    "        vdMul(n_, x, y, result);\n",
    "   }\n",
    "   \"\"\", \n",
    "   library_dirs=[os.environ['CONDA_PREFIX'] + '/lib'],\n",
    "   include_dirs=[os.environ['CONDA_PREFIX'] + '/include'],\n",
    "   libraries=['mkl_rt'])\n",
    "\n",
    "ffibuilder.cdef(\"\"\"\n",
    "    void mkl_multiply(const int n, const double *x, const double *y, double *result);\n",
    "\"\"\")\n",
    "\n",
    "if __name__ == \"__main__\":\n",
    "    ffibuilder.compile(verbose=True)"
   ]
  },
  {
   "cell_type": "markdown",
   "metadata": {
    "slideshow": {
     "slide_type": "subslide"
    }
   },
   "source": [
    "# API Example (cont.)\n",
    "\n",
    "Run the builder script\n"
   ]
  },
  {
   "cell_type": "code",
   "execution_count": null,
   "metadata": {
    "hide_input": false,
    "slideshow": {
     "slide_type": "-"
    }
   },
   "outputs": [],
   "source": [
    "%run mkl_multiply_builder.py"
   ]
  },
  {
   "cell_type": "code",
   "execution_count": null,
   "metadata": {
    "hide_input": false,
    "slideshow": {
     "slide_type": "-"
    }
   },
   "outputs": [],
   "source": [
    "%ls mkl_multiply*"
   ]
  },
  {
   "cell_type": "markdown",
   "metadata": {
    "slideshow": {
     "slide_type": "subslide"
    }
   },
   "source": [
    "# API Example (cont.)\n",
    "\n",
    "Import the the library.  Notice there is no call to `dlopen()`.\n"
   ]
  },
  {
   "cell_type": "code",
   "execution_count": null,
   "metadata": {
    "hide_input": false,
    "slideshow": {
     "slide_type": "-"
    }
   },
   "outputs": [],
   "source": [
    "from mkl_multiply import ffi\n",
    "from mkl_multiply import lib as mkl"
   ]
  },
  {
   "cell_type": "markdown",
   "metadata": {
    "slideshow": {
     "slide_type": "-"
    }
   },
   "source": [
    "Test the function.\n"
   ]
  },
  {
   "cell_type": "code",
   "execution_count": null,
   "metadata": {
    "hide_input": false,
    "slideshow": {
     "slide_type": "-"
    }
   },
   "outputs": [],
   "source": [
    "%%timeit\n",
    "mkl.mkl_multiply(N, x_, y_, result_)"
   ]
  },
  {
   "cell_type": "code",
   "execution_count": null,
   "metadata": {
    "hide_input": false,
    "slideshow": {
     "slide_type": "-"
    }
   },
   "outputs": [],
   "source": [
    "result"
   ]
  },
  {
   "cell_type": "markdown",
   "metadata": {
    "slideshow": {
     "slide_type": "slide"
    }
   },
   "source": [
    "# More Information\n",
    "\n",
    " * [CFFI Documentation](https://cffi.readthedocs.io/en/latest/)\n"
   ]
  },
  {
   "cell_type": "code",
   "execution_count": 1,
   "metadata": {
    "hide_input": true,
    "init_cell": true,
    "slideshow": {
     "slide_type": "skip"
    }
   },
   "outputs": [
    {
     "data": {
      "application/javascript": [
       "function hideElements(elements, start) {\n",
       "    for(var i = 0, length = elements.length; i < length;i++) {\n",
       "        if(i >= start) {\n",
       "            elements[i].style.display = \"none\";\n",
       "        }\n",
       "    }\n",
       "}\n",
       "\n",
       "var prompt_elements = document.getElementsByClassName(\"prompt\");\n",
       "hideElements(prompt_elements, 0)"
      ],
      "text/plain": [
       "<IPython.core.display.Javascript object>"
      ]
     },
     "metadata": {},
     "output_type": "display_data"
    }
   ],
   "source": [
    "%%javascript\n",
    "function hideElements(elements, start) {\n",
    "    for(var i = 0, length = elements.length; i < length;i++) {\n",
    "        if(i >= start) {\n",
    "            elements[i].style.display = \"none\";\n",
    "        }\n",
    "    }\n",
    "}\n",
    "\n",
    "var prompt_elements = document.getElementsByClassName(\"prompt\");\n",
    "hideElements(prompt_elements, 0)"
   ]
  }
 ],
 "metadata": {
  "kernelspec": {
   "display_name": "Python 3",
   "language": "python",
   "name": "python3"
  },
  "language_info": {
   "codemirror_mode": {
    "name": "ipython",
    "version": 3
   },
   "file_extension": ".py",
   "mimetype": "text/x-python",
   "name": "python",
   "nbconvert_exporter": "python",
   "pygments_lexer": "ipython3",
   "version": "3.6.4"
  },
  "livereveal": {
   "autolaunch": true,
   "footer": "<img src='images/UT.png' width='220'>",
   "progress": true,
   "scroll": true,
   "theme": "simple"
  }
 },
 "nbformat": 4,
 "nbformat_minor": 2
}
