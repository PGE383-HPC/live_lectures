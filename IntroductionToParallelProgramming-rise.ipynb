{
 "cells": [
  {
   "cell_type": "markdown",
   "metadata": {
    "slideshow": {
     "slide_type": "slide"
    }
   },
   "source": [
    "# Introduction to Parallel Programming\n"
   ]
  },
  {
   "cell_type": "markdown",
   "metadata": {
    "slideshow": {
     "slide_type": "slide"
    }
   },
   "source": [
    "# Terminology\n",
    "\n",
    "* **Node** A standalone \"computer\" - Comprised of multiple CPUs/cores/processors.  Nodes are networked together to form a \"supercomputer\"\n",
    "\n",
    "* **CPU/Socket/Processor/Core** - A singular execution point in a computer.\n",
    "\n",
    "* **Task** - A logically discrete section of computational work.  A parallel program consists of multiple tasks running on multiple processors simultaneously.\n"
   ]
  },
  {
   "cell_type": "markdown",
   "metadata": {
    "slideshow": {
     "slide_type": "slide"
    }
   },
   "source": [
    "# Parallel Architectures\n",
    "\n",
    "<table>\n",
    "    <tr style=\"background-color:transparent\">\n",
    "        <td><img src=\"images/distributed_mem.png\" width=300/></td>\n",
    "        <td><img src=\"images/shared_mem.png\" width=300/></td>\n",
    "    </tr>\n",
    "    <tr style=\"background-color:transparent\">\n",
    "        <td>[Image Source](https://computing.llnl.gov/tutorials/parallel_comp/images/distributed_mem.gif)</td>\n",
    "        <td>[Image Source](https://computing.llnl.gov/tutorials/parallel_comp/images/shared_mem.gif)</td>\n",
    "    </tr>\n",
    "    <tr style=\"background-color:transparent\">\n",
    "        <td style=\"text-align:center\"><font size=\"4\">Distributed Memory</font></td>\n",
    "        <td style=\"text-align:center\"><font size=\"4\">Shared Memory</font></td>\n",
    "    </tr>\n",
    "</table>\n"
   ]
  },
  {
   "cell_type": "markdown",
   "metadata": {
    "slideshow": {
     "slide_type": "subslide"
    }
   },
   "source": [
    "# Hybrid-Parallel Architectures\n",
    "\n",
    "<table>\n",
    "    <tr style=\"background-color:transparent\">\n",
    "        <td><img src=\"images/hybrid_mem.png\" width=300/></td>\n",
    "        <td><img src=\"images/hybrid_mem2.png\" width=300/></td>\n",
    "    </tr>\n",
    "    <tr style=\"background-color:transparent\">\n",
    "        <td>[Image Source](https://computing.llnl.gov/tutorials/parallel_comp/images/hybrid_mem.gif)</td>\n",
    "        <td>[Image Source](https://computing.llnl.gov/tutorials/parallel_comp/images/hybrid_mem2.gif)</td>\n",
    "    </tr>\n",
    "</table>\n"
   ]
  },
  {
   "cell_type": "markdown",
   "metadata": {
    "slideshow": {
     "slide_type": "subslide"
    }
   },
   "source": [
    "# Common Parallel Progamming Models\n",
    "\n",
    "* Shared Memory \n",
    "  * CPU (POSIX Threads, OpenMP, OpenACC, Intel TBB)\n",
    "  * GPGPU (CUDA, OpenCL, OpenACC)\n",
    "  * Intel MIC (Offloading, MYO)\n",
    "  \n",
    "* Distrubed Memory\n",
    "  * MPI (*the de facto standard*)\n",
    "\n",
    "* Hybrid\n",
    "  * MPI + Shared\n"
   ]
  },
  {
   "cell_type": "markdown",
   "metadata": {
    "slideshow": {
     "slide_type": "slide"
    }
   },
   "source": [
    "# Design of Parallel Programs\n",
    "\n",
    "Partitioning is the most common design in engineering applications\n",
    "\n",
    "<table>\n",
    "    <tr style=\"background-color:transparent\">\n",
    "        <td><img src=\"images/domain_decomp.png\" width=400/></td>\n",
    "    </tr>\n",
    "</table>\n",
    "[Image Source](https://computing.llnl.gov/tutorials/parallel_comp/images/domain_decomp.gif)\n"
   ]
  },
  {
   "cell_type": "markdown",
   "metadata": {
    "slideshow": {
     "slide_type": "slide"
    }
   },
   "source": [
    "# Resources\n",
    "\n",
    "https://computing.llnl.gov/tutorials/parallel_comp/\n"
   ]
  },
  {
   "cell_type": "code",
   "execution_count": null,
   "metadata": {
    "hide_input": true,
    "init_cell": true,
    "slideshow": {
     "slide_type": "skip"
    }
   },
   "outputs": [],
   "source": [
    "%%javascript\n",
    "function hideElements(elements, start) {\n",
    "    for(var i = 0, length = elements.length; i < length;i++) {\n",
    "        if(i >= start) {\n",
    "            elements[i].style.display = \"none\";\n",
    "        }\n",
    "    }\n",
    "}\n",
    "\n",
    "var prompt_elements = document.getElementsByClassName(\"prompt\");\n",
    "hideElements(prompt_elements, 0)"
   ]
  }
 ],
 "metadata": {
  "kernelspec": {
   "display_name": "Python 3",
   "language": "python",
   "name": "python3"
  },
  "language_info": {
   "codemirror_mode": {
    "name": "ipython",
    "version": 3
   },
   "file_extension": ".py",
   "mimetype": "text/x-python",
   "name": "python",
   "nbconvert_exporter": "python",
   "pygments_lexer": "ipython3",
   "version": "3.6.4"
  },
  "livereveal": {
   "autolaunch": true,
   "footer": "<img src='images/UT.png' width='220'>",
   "progress": true,
   "scroll": true,
   "theme": "simple"
  }
 },
 "nbformat": 4,
 "nbformat_minor": 2
}
