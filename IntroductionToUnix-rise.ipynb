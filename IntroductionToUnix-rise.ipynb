{
 "cells": [
  {
   "cell_type": "markdown",
   "metadata": {
    "slideshow": {
     "slide_type": "slide"
    }
   },
   "source": [
    "# Introduction to Unix and Unix-like operation systems\n"
   ]
  },
  {
   "cell_type": "markdown",
   "metadata": {
    "slideshow": {
     "slide_type": "slide"
    }
   },
   "source": [
    "# The beginning...\n"
   ]
  },
  {
   "cell_type": "markdown",
   "metadata": {
    "slideshow": {
     "slide_type": "fragment"
    }
   },
   "source": [
    "* Before Unix\n",
    "    * Machine hardware dependent operating systems\n",
    "    * Typically written in*assembler*  language\n",
    "    * Programs not portable\n"
   ]
  },
  {
   "cell_type": "markdown",
   "metadata": {
    "slideshow": {
     "slide_type": "fragment"
    }
   },
   "source": [
    "* Unix originally written in 1969 at ATT\n",
    "    * Ken Thompson and Dennis Ritchie\n",
    "    * Written in *C* language (invented by Ritchie)\n",
    "    * Programs written in C run on all hardware\n",
    "    * Initially, portability was its strength\n"
   ]
  },
  {
   "cell_type": "markdown",
   "metadata": {
    "slideshow": {
     "slide_type": "fragment"
    }
   },
   "source": [
    "* Berkeley\n",
    "    * ATT was prevented from selling software, so UNIX was distributed openly\n",
    "    * The University of California-Berkeley created a UNIX of its own called \n",
    "  *BSD UNIX* \n",
    "    * Picked up where ATT left off\n"
   ]
  },
  {
   "cell_type": "markdown",
   "metadata": {
    "slideshow": {
     "slide_type": "slide"
    }
   },
   "source": [
    "# Fragmentation...\n",
    "\n",
    "<table>\n",
    "    <tr style=\"background-color:transparent\">\n",
    "        <td style=\"padding:0 150px 0  15px;\"><img src=\"images/sun-logo.png\" width=100/></td>\n",
    "        <td>Solaris</td>\n",
    "    </tr>\n",
    "    <tr>\n",
    "        <td style=\"padding:0 150px 0  15px;\"><img src=\"images/ibm-logo.jpeg\" width=100/></td>\n",
    "        <td>AIX</td>\n",
    "    </tr>\n",
    "    <tr style=\"background-color:transparent\">\n",
    "        <td style=\"padding:0 150px 0  15px;\"><img src=\"images/hp-logo.jpeg\" width=100/></td>\n",
    "        <td>HP-UX</td>\n",
    "    </tr>\n",
    "    <tr>\n",
    "        <td style=\"padding:0 150px 0  15px;\"><img src=\"images/apple-logo.jpeg\" width=60/></td>\n",
    "        <td>macOS</td>\n",
    "    </tr>\n",
    "</table>\n"
   ]
  },
  {
   "cell_type": "markdown",
   "metadata": {
    "slideshow": {
     "slide_type": "slide"
    }
   },
   "source": [
    "# Officially...\n",
    "\n",
    "The UNIX System is trademarked to a standards body called:\n",
    "\t\n",
    "<img src=\"images/opengroup-logo.png\"/>\n"
   ]
  },
  {
   "cell_type": "markdown",
   "metadata": {
    "slideshow": {
     "slide_type": "subslide"
    }
   },
   "source": [
    "# POSIX and Single UNIX Specification\n",
    "\n",
    "* Fragmentation caused some applications written to run on UNIX to not be portable.\n",
    "\n",
    "* IEEE developed the *Portable Operating System Interface for Computer Environments (POSIX)*  to address this issue.\n",
    "\t\t \n",
    "* Later a joint initiative between IEEE and The Open Group resulted in the*Single UNIX&reg; Specification* .\n",
    "    * https://publications.opengroup.org/standards/unix/t101\n"
   ]
  },
  {
   "cell_type": "markdown",
   "metadata": {
    "slideshow": {
     "slide_type": "slide"
    }
   },
   "source": [
    "# Linux and GNU\n"
   ]
  },
  {
   "cell_type": "markdown",
   "metadata": {
    "slideshow": {
     "slide_type": "fragment"
    }
   },
   "source": [
    "* Linux\n",
    "    * Free UNIX written by Linus Torvalds\n",
    "    * Distributed under the GNU General Public License\n"
   ]
  },
  {
   "cell_type": "markdown",
   "metadata": {
    "slideshow": {
     "slide_type": "fragment"
    }
   },
   "source": [
    "* GNU (Free Software Foundation)\n",
    "    * Run by Richard Stallman\n",
    "    * Recursive acronym for \"GNU's Not Unix!\"\n",
    "    * Supplies many application tools for Linux\n"
   ]
  },
  {
   "cell_type": "markdown",
   "metadata": {
    "slideshow": {
     "slide_type": "fragment"
    }
   },
   "source": [
    "* GNU/Linux, Linux, UNIX sometimes loosely used interchangeably in speech.  Sometimes written as *nix.\n"
   ]
  },
  {
   "cell_type": "markdown",
   "metadata": {
    "slideshow": {
     "slide_type": "subslide"
    }
   },
   "source": [
    "# Linux Distributions\n",
    "\n",
    "<table>\n",
    "    <tr style=\"background-color:transparent\">\n",
    "        <td style=\"padding:0 150px 0  15px;\"><img src=\"images/ubuntu-logo.png\" width=150/></td>\n",
    "        <td style=\"padding:0 150px 0  15px;\"><img src=\"images/mandriva-logo.png\" width=150/></td>\n",
    "    </tr>\n",
    "    <tr style=\"background-color:transparent\">\n",
    "        <td style=\"padding:0 150px 0  15px;\"><img src=\"images/fedora-logo.png\" width=150/></td>\n",
    "        <td style=\"padding:0 150px 0  15px;\"><img src=\"images/redhat-logo.jpeg\" width=150/></td>\n",
    "    </tr>\n",
    "    <tr style=\"background-color:transparent\">\n",
    "        <td style=\"padding:0 150px 0  15px;\"><img src=\"images/centos-logo.png\" width=150/></td>\n",
    "        <td style=\"padding:0 150px 0  15px;\"><img src=\"images/gentoo-logo.png\" width=150/></td>\n",
    "    </tr>\n",
    "    <tr style=\"background-color:transparent\">\n",
    "        <td style=\"padding:0 150px 0  15px;\"><img src=\"images/suse-logo.jpeg\" width=150/></td>\n",
    "        <td style=\"padding:0 150px 0  15px;\"><img src=\"images/debian-logo.jpeg\" width=150/></td>\n",
    "    </tr>\n",
    "</table>\n",
    "\n",
    "And more...\n"
   ]
  },
  {
   "cell_type": "markdown",
   "metadata": {
    "slideshow": {
     "slide_type": "slide"
    }
   },
   "source": [
    "# *nix Architecture\n",
    "\n",
    "<table>\n",
    "    <tr style=\"background-color:transparent\">\n",
    "        <td style=\"text-align:left\">\n",
    "            <ul>\n",
    "                <li>Division of Labor</li>\n",
    "            <ul>\n",
    "                <li>Kernel</li>\n",
    "                <li>Shell</li>\n",
    "            </ul>\n",
    "                <li>Kernel is the *core* of the OS</li>\n",
    "                <li>Shell interprets user commands</li>\n",
    "            </ul>\n",
    "        </td>\n",
    "        <td style=\"text-align:left\"><img src=\"images/kernel-shell.png\" width=250/>[Figure Source](https://www.amazon.com/Your-UNIX-Linux-Ultimate-Guide/dp/0073376205) S. Das. Your UNIX/Linux: The Ultimate Guide. Third. McGraw-Hill, Inc., 2013.</td>\n",
    "    </tr>\n",
    "    </table>\n"
   ]
  },
  {
   "cell_type": "markdown",
   "metadata": {
    "slideshow": {
     "slide_type": "subslide"
    }
   },
   "source": [
    "# Features of *nix\n"
   ]
  },
  {
   "cell_type": "markdown",
   "metadata": {
    "slideshow": {
     "slide_type": "fragment"
    }
   },
   "source": [
    "* Multiuser system\n",
    "    * Many users can be logged in at once and run programs that compete for memory and CPU time.\n"
   ]
  },
  {
   "cell_type": "markdown",
   "metadata": {
    "slideshow": {
     "slide_type": "fragment"
    }
   },
   "source": [
    "* Mulitasking\n",
    "    * Single or multiple users can run multiple tasks simultaneously.\n"
   ]
  },
  {
   "cell_type": "markdown",
   "metadata": {
    "slideshow": {
     "slide_type": "fragment"
    }
   },
   "source": [
    "* Repository of applications\n"
   ]
  },
  {
   "cell_type": "markdown",
   "metadata": {
    "slideshow": {
     "slide_type": "fragment"
    }
   },
   "source": [
    "* Building-Block approach\n",
    "    * Small, simple applications are intended to be piped together to perform more complicated tasks.\n"
   ]
  },
  {
   "cell_type": "markdown",
   "metadata": {
    "slideshow": {
     "slide_type": "fragment"
    }
   },
   "source": [
    "* Sophisticated pattern matching\n"
   ]
  },
  {
   "cell_type": "markdown",
   "metadata": {
    "slideshow": {
     "slide_type": "fragment"
    }
   },
   "source": [
    "* Programming language\n"
   ]
  },
  {
   "cell_type": "code",
   "execution_count": null,
   "metadata": {
    "hide_input": true,
    "slideshow": {
     "slide_type": "skip"
    }
   },
   "outputs": [],
   "source": [
    "%%javascript\n",
    "function hideElements(elements, start) {\n",
    "    for(var i = 0, length = elements.length; i < length;i++) {\n",
    "        if(i >= start) {\n",
    "            elements[i].style.display = \"none\";\n",
    "        }\n",
    "    }\n",
    "}\n",
    "\n",
    "var prompt_elements = document.getElementsByClassName(\"prompt\");\n",
    "hideElements(prompt_elements, 0)"
   ]
  }
 ],
 "metadata": {
  "celltoolbar": "Slideshow",
  "kernelspec": {
   "display_name": "Python 3",
   "language": "python",
   "name": "python3"
  },
  "language_info": {
   "codemirror_mode": {
    "name": "ipython",
    "version": 3
   },
   "file_extension": ".py",
   "mimetype": "text/x-python",
   "name": "python",
   "nbconvert_exporter": "python",
   "pygments_lexer": "ipython3",
   "version": "3.5.2"
  },
  "livereveal": {
   "autolaunch": true,
   "footer": "<img src='images/UT.png' width='220'>",
   "progress": true,
   "scroll": true,
   "theme": "simple"
  }
 },
 "nbformat": 4,
 "nbformat_minor": 2
}
