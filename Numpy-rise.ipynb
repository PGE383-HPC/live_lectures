{
 "cells": [
  {
   "cell_type": "markdown",
   "metadata": {
    "slideshow": {
     "slide_type": "slide"
    }
   },
   "source": [
    "# `numpy`: Numerical Python\n"
   ]
  },
  {
   "cell_type": "markdown",
   "metadata": {
    "slideshow": {
     "slide_type": "slide"
    }
   },
   "source": [
    "# \"Duck'' typing makes Python slow\n",
    "\n",
    "* Duck Typing\n",
    "\n",
    "     * If it looks like a duck, then it is a duck.\n",
    "     * a.k.a. dynamic typing\n",
    "     * Dynamic typing requires lots of metadata around a variable.\n"
   ]
  },
  {
   "cell_type": "markdown",
   "metadata": {
    "slideshow": {
     "slide_type": "fragment"
    }
   },
   "source": [
    "* Solution: `numpy` data structures\n",
    "     * Data structures, as objects, that have a single type and continuous storage.\n",
    "     * Common functionality with implementation in C.\n"
   ]
  },
  {
   "cell_type": "markdown",
   "metadata": {
    "slideshow": {
     "slide_type": "slide"
    }
   },
   "source": [
    "# How slow is Python?\n",
    "\n",
    "* Add 1 to a million numbers\n",
    "    * Use `timeit`\n"
   ]
  },
  {
   "cell_type": "code",
   "execution_count": 1,
   "metadata": {
    "hide_input": false,
    "slideshow": {
     "slide_type": "fragment"
    }
   },
   "outputs": [
    {
     "name": "stdout",
     "output_type": "stream",
     "text": [
      "110 ms ± 13.1 ms per loop (mean ± std. dev. of 7 runs, 10 loops each)\n"
     ]
    }
   ],
   "source": [
    "%timeit [i+1 for i in range(1000000)]    "
   ]
  },
  {
   "cell_type": "code",
   "execution_count": 2,
   "metadata": {
    "hide_input": false,
    "slideshow": {
     "slide_type": "fragment"
    }
   },
   "outputs": [
    {
     "name": "stdout",
     "output_type": "stream",
     "text": [
      "1.22 ms ± 121 µs per loop (mean ± std. dev. of 7 runs, 1000 loops each)\n"
     ]
    }
   ],
   "source": [
    "import numpy\n",
    "%timeit numpy.arange(1000000) + 1"
   ]
  },
  {
   "cell_type": "markdown",
   "metadata": {
    "slideshow": {
     "slide_type": "slide"
    }
   },
   "source": [
    "# Universal functions\n",
    "\n",
    "* Universal functions are vectorized functions that operate on arrays in an element-by-element fashion.\n",
    "* Arithmetic operators (`+`, `-`, `/`, `*`, `**`) are overloaded to work in an element-by-element fashion.\n",
    "\n",
    "Another speed comparison:\n"
   ]
  },
  {
   "cell_type": "code",
   "execution_count": 3,
   "metadata": {
    "hide_input": false,
    "slideshow": {
     "slide_type": "-"
    }
   },
   "outputs": [
    {
     "name": "stdout",
     "output_type": "stream",
     "text": [
      "322 ms ± 40.7 ms per loop (mean ± std. dev. of 7 runs, 1 loop each)\n"
     ]
    }
   ],
   "source": [
    "import math\n",
    "%timeit [math.sin(i) ** 2 for i in range(1000000)]"
   ]
  },
  {
   "cell_type": "code",
   "execution_count": 4,
   "metadata": {
    "hide_input": false,
    "slideshow": {
     "slide_type": "-"
    }
   },
   "outputs": [
    {
     "name": "stdout",
     "output_type": "stream",
     "text": [
      "25.3 ms ± 2.51 ms per loop (mean ± std. dev. of 7 runs, 10 loops each)\n"
     ]
    }
   ],
   "source": [
    "import numpy\n",
    "%timeit numpy.sin(numpy.arange(1000000)) ** 2"
   ]
  },
  {
   "cell_type": "markdown",
   "metadata": {
    "slideshow": {
     "slide_type": "slide"
    }
   },
   "source": [
    "# Creating `numpy` arrays\n",
    "\n",
    "`numpy` offers several built-in functions for creating arrays\n"
   ]
  },
  {
   "cell_type": "markdown",
   "metadata": {},
   "source": [
    "```python\n",
    "import numpy\n",
    "x = numpy.array([2,3,11])\n",
    "x = numpy.array([[1,2.],[0,0],[1+1j,2.]])\n",
    "x = numpy.arange(-10,10,2, dtype=float)\n",
    "x = numpy.linspace(1.,4.,6)\n",
    "x = numpy.indices((3,3))\n",
    "x = numpy.fromfile('foo.dat')\n",
    "```\n"
   ]
  },
  {
   "cell_type": "markdown",
   "metadata": {
    "slideshow": {
     "slide_type": "slide"
    }
   },
   "source": [
    "# Array functions\n",
    "\n",
    "`numpy` array functions for slicing, getting info, etc.\n"
   ]
  },
  {
   "cell_type": "code",
   "execution_count": 5,
   "metadata": {
    "hide_input": false,
    "slideshow": {
     "slide_type": "fragment"
    }
   },
   "outputs": [
    {
     "data": {
      "text/plain": [
       "array([[0, 1, 2],\n",
       "       [3, 4, 5],\n",
       "       [6, 7, 8]])"
      ]
     },
     "execution_count": 5,
     "metadata": {},
     "output_type": "execute_result"
    }
   ],
   "source": [
    "import numpy as np\n",
    "x = np.arange(9).reshape(3,3)\n",
    "x"
   ]
  },
  {
   "cell_type": "code",
   "execution_count": 6,
   "metadata": {
    "hide_input": false
   },
   "outputs": [
    {
     "data": {
      "text/plain": [
       "array([0, 3, 6])"
      ]
     },
     "execution_count": 6,
     "metadata": {},
     "output_type": "execute_result"
    }
   ],
   "source": [
    "x[:,0]"
   ]
  },
  {
   "cell_type": "code",
   "execution_count": 7,
   "metadata": {
    "hide_input": false
   },
   "outputs": [
    {
     "data": {
      "text/plain": [
       "(3, 3)"
      ]
     },
     "execution_count": 7,
     "metadata": {},
     "output_type": "execute_result"
    }
   ],
   "source": [
    "x.shape"
   ]
  },
  {
   "cell_type": "code",
   "execution_count": 8,
   "metadata": {
    "hide_input": false
   },
   "outputs": [
    {
     "data": {
      "text/plain": [
       "array([[0, 2],\n",
       "       [6, 8]])"
      ]
     },
     "execution_count": 8,
     "metadata": {},
     "output_type": "execute_result"
    }
   ],
   "source": [
    "y = x[::2, ::2]\n",
    "y"
   ]
  },
  {
   "cell_type": "code",
   "execution_count": 9,
   "metadata": {
    "hide_input": false
   },
   "outputs": [
    {
     "data": {
      "text/plain": [
       "100"
      ]
     },
     "execution_count": 9,
     "metadata": {},
     "output_type": "execute_result"
    }
   ],
   "source": [
    "y[0,0] = 100\n",
    "y[0,0]"
   ]
  },
  {
   "cell_type": "markdown",
   "metadata": {
    "slideshow": {
     "slide_type": "slide"
    }
   },
   "source": [
    "# Efficient and compact finite differences\n"
   ]
  },
  {
   "cell_type": "code",
   "execution_count": 10,
   "metadata": {
    "hide_input": false
   },
   "outputs": [
    {
     "data": {
      "text/plain": [
       "array([  2.,   6.,  10.,  14.,  18.,  22.,  26.,  30.,  34.])"
      ]
     },
     "execution_count": 10,
     "metadata": {},
     "output_type": "execute_result"
    }
   ],
   "source": [
    "x = np.arange(0,20,2)\n",
    "y = x ** 2\n",
    "\n",
    "dy_dx = (y[1:] - y[:-1]) / (x[1:] - x[:-1])\n",
    "dy_dx"
   ]
  },
  {
   "cell_type": "markdown",
   "metadata": {
    "slideshow": {
     "slide_type": "slide"
    }
   },
   "source": [
    "# Sophisticated broadcasting rules\n"
   ]
  },
  {
   "cell_type": "code",
   "execution_count": 11,
   "metadata": {
    "hide_input": false
   },
   "outputs": [
    {
     "data": {
      "text/plain": [
       "(3, 800, 600)"
      ]
     },
     "execution_count": 11,
     "metadata": {},
     "output_type": "execute_result"
    }
   ],
   "source": [
    "red = np.random.rand(800,600)\n",
    "blue = np.random.rand(800, 600)\n",
    "green = np.random.rand(800, 600)\n",
    "rgb = np.array([red, blue, green])\n",
    "rgb.shape"
   ]
  },
  {
   "cell_type": "code",
   "execution_count": 12,
   "metadata": {
    "hide_input": false
   },
   "outputs": [
    {
     "data": {
      "text/plain": [
       "array([[[ 0.0572915 ,  0.32313562,  0.16103862],\n",
       "        [ 0.17728031,  0.13808923,  0.10237519],\n",
       "        [ 0.31018678,  0.35407676,  0.32346525],\n",
       "        ..., \n",
       "        [ 0.39877338,  0.44515327,  0.41391662],\n",
       "        [ 0.0947496 ,  0.45246471,  0.38517163],\n",
       "        [ 0.21095469,  0.36167983,  0.43376607]],\n",
       "\n",
       "       [[ 0.32578771,  0.20908545,  0.27450444],\n",
       "        [ 0.06499066,  0.29061026,  0.25727398],\n",
       "        [ 0.4903594 ,  0.41556017,  0.12463315],\n",
       "        ..., \n",
       "        [ 0.30675776,  0.3224342 ,  0.11740479],\n",
       "        [ 0.04301273,  0.09905372,  0.44172653],\n",
       "        [ 0.03688823,  0.27918651,  0.23945417]],\n",
       "\n",
       "       [[ 0.14924607,  0.3934185 ,  0.1787775 ],\n",
       "        [ 0.37542107,  0.02616865,  0.19181638],\n",
       "        [ 0.0036889 ,  0.08759746,  0.28269157],\n",
       "        ..., \n",
       "        [ 0.15305688,  0.07356994,  0.48027121],\n",
       "        [ 0.31778989,  0.09474409,  0.03948814],\n",
       "        [ 0.04076674,  0.1230122 ,  0.34899233]],\n",
       "\n",
       "       ..., \n",
       "       [[ 0.28770621,  0.04297194,  0.0797577 ],\n",
       "        [ 0.09302244,  0.00407896,  0.19471398],\n",
       "        [ 0.49317651,  0.01786695,  0.34037306],\n",
       "        ..., \n",
       "        [ 0.33641787,  0.00141393,  0.3542402 ],\n",
       "        [ 0.07212021,  0.47950944,  0.11248765],\n",
       "        [ 0.29026511,  0.0188487 ,  0.37162958]],\n",
       "\n",
       "       [[ 0.26561951,  0.4719433 ,  0.0235921 ],\n",
       "        [ 0.40664526,  0.0077357 ,  0.33035248],\n",
       "        [ 0.19008087,  0.21865365,  0.28132663],\n",
       "        ..., \n",
       "        [ 0.1313237 ,  0.49808581,  0.4155362 ],\n",
       "        [ 0.01350529,  0.35242497,  0.14651145],\n",
       "        [ 0.42678719,  0.17068415,  0.09740046]],\n",
       "\n",
       "       [[ 0.48343202,  0.36808606,  0.17395177],\n",
       "        [ 0.49963094,  0.32164782,  0.10467973],\n",
       "        [ 0.28034237,  0.04529184,  0.38897793],\n",
       "        ..., \n",
       "        [ 0.25209185,  0.14136379,  0.14376886],\n",
       "        [ 0.15740206,  0.02332228,  0.22485095],\n",
       "        [ 0.21098018,  0.13000661,  0.3129285 ]]])"
      ]
     },
     "execution_count": 12,
     "metadata": {},
     "output_type": "execute_result"
    }
   ],
   "source": [
    "rgb.T * np.array([0.5, 0.5, 0.5])"
   ]
  },
  {
   "cell_type": "code",
   "execution_count": null,
   "metadata": {
    "collapsed": true,
    "hide_input": true
   },
   "outputs": [],
   "source": []
  },
  {
   "cell_type": "code",
   "execution_count": null,
   "metadata": {
    "hide_input": true,
    "init_cell": true,
    "slideshow": {
     "slide_type": "skip"
    }
   },
   "outputs": [],
   "source": [
    "%%javascript\n",
    "function hideElements(elements, start) {\n",
    "    for(var i = 0, length = elements.length; i < length;i++) {\n",
    "        if(i >= start) {\n",
    "            elements[i].style.display = \"none\";\n",
    "        }\n",
    "    }\n",
    "}\n",
    "\n",
    "var prompt_elements = document.getElementsByClassName(\"prompt\");\n",
    "hideElements(prompt_elements, 0)"
   ]
  }
 ],
 "metadata": {
  "celltoolbar": "Slideshow",
  "kernelspec": {
   "display_name": "Python 3",
   "language": "python",
   "name": "python3"
  },
  "language_info": {
   "codemirror_mode": {
    "name": "ipython",
    "version": 3
   },
   "file_extension": ".py",
   "mimetype": "text/x-python",
   "name": "python",
   "nbconvert_exporter": "python",
   "pygments_lexer": "ipython3",
   "version": "3.6.4"
  },
  "livereveal": {
   "autolaunch": true,
   "footer": "<img src='images/UT.png' width='220'>",
   "progress": true,
   "scroll": true,
   "theme": "simple"
  }
 },
 "nbformat": 4,
 "nbformat_minor": 2
}
