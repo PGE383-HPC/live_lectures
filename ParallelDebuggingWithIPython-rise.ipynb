{
 "cells": [
  {
   "cell_type": "markdown",
   "metadata": {
    "hide_input": true,
    "slideshow": {
     "slide_type": "slide"
    }
   },
   "source": [
    "# Parallel Debugging & Interactivity with IPython\n"
   ]
  },
  {
   "cell_type": "markdown",
   "metadata": {
    "slideshow": {
     "slide_type": "slide"
    }
   },
   "source": [
    "# Parallel Debugging Difficulties\n",
    "\n",
    "* Debugging parallel code is hard!\n",
    "  * Print statements are inefficient\n",
    "  * Traditional debuggers (e.g. gdb) usually don’t work well\n",
    "  \n",
    "* TotalView is great but expensive.\n",
    "\n",
    "* Enter IPython (ipyparallel module)\n"
   ]
  },
  {
   "cell_type": "markdown",
   "metadata": {
    "slideshow": {
     "slide_type": "slide"
    }
   },
   "source": [
    "# IPython for interactive debugging\n"
   ]
  },
  {
   "cell_type": "markdown",
   "metadata": {
    "slideshow": {
     "slide_type": "fragment"
    }
   },
   "source": [
    "## Create config file (first time only)\n",
    "\n",
    "```bash\n",
    ">ipython profile create --parallel --profile=mpi\n",
    "```\n"
   ]
  },
  {
   "cell_type": "markdown",
   "metadata": {
    "slideshow": {
     "slide_type": "fragment"
    }
   },
   "source": [
    "## Edit the file `~/.ipython/profile_mpi/ipcluster_config.py`\n",
    "\n",
    "Add the line\n",
    "\n",
    "```python\n",
    "c.IPClusterEngines.engine_launcher_class = 'MPI'\n",
    "```\n"
   ]
  },
  {
   "cell_type": "markdown",
   "metadata": {
    "slideshow": {
     "slide_type": "slide"
    }
   },
   "source": [
    "# Launch parallel kernels\n",
    "\n",
    "## From the command line:\n",
    "\n",
    "```bash\n",
    ">ipcluster start --profile=mpi --n=4 &\n",
    "```\n"
   ]
  },
  {
   "cell_type": "markdown",
   "metadata": {
    "slideshow": {
     "slide_type": "fragment"
    }
   },
   "source": [
    "## Connect via IPython:\n",
    "\n",
    "```python\n",
    "from ipyparallel import Client\n",
    "c = Client(profile='mpi')\n",
    "c.ids\n",
    "```\n"
   ]
  },
  {
   "cell_type": "markdown",
   "metadata": {
    "slideshow": {
     "slide_type": "slide"
    }
   },
   "source": [
    "# Interactively run a parallel script\n"
   ]
  },
  {
   "cell_type": "code",
   "execution_count": 7,
   "metadata": {
    "hide_input": false
   },
   "outputs": [
    {
     "name": "stdout",
     "output_type": "stream",
     "text": [
      "Writing psum.py\n"
     ]
    }
   ],
   "source": [
    "%%file psum.py\n",
    "from mpi4py import MPI\n",
    "import numpy as np\n",
    "def psum(a):\n",
    "    s = np.sum(a)\n",
    "    rcvBuf = np.array(0.0,dtype=np.double)\n",
    "    MPI.COMM_WORLD.Allreduce([s, MPI.DOUBLE],\n",
    "        [rcvBuf, MPI.DOUBLE],\n",
    "        op=MPI.SUM)\n",
    "    return rcvBuf"
   ]
  },
  {
   "cell_type": "markdown",
   "metadata": {
    "slideshow": {
     "slide_type": "fragment"
    }
   },
   "source": [
    "## Connect via IPython\n",
    "\n",
    "```python\n",
    "from ipyparallel import Client\n",
    "c = Client(profile='mpi')\n",
    "view = c[:]\n",
    "view.activate()\n",
    "view.run('psum.py')\n",
    "%px a = np.random.rand(100)\n",
    "%px s = psum(a)\n",
    "view['s']\n",
    "```\n"
   ]
  },
  {
   "cell_type": "markdown",
   "metadata": {
    "slideshow": {
     "slide_type": "slide"
    }
   },
   "source": [
    "# Shutdown `ipcluster`\n",
    "\n",
    "```bash\n",
    "ipcluster stop --profile='mpi'\n",
    "```\n"
   ]
  },
  {
   "cell_type": "code",
   "execution_count": 1,
   "metadata": {
    "hide_input": true,
    "init_cell": true,
    "slideshow": {
     "slide_type": "skip"
    }
   },
   "outputs": [
    {
     "data": {
      "application/javascript": [
       "function hideElements(elements, start) {\n",
       "    for(var i = 0, length = elements.length; i < length;i++) {\n",
       "        if(i >= start) {\n",
       "            elements[i].style.display = \"none\";\n",
       "        }\n",
       "    }\n",
       "}\n",
       "\n",
       "var prompt_elements = document.getElementsByClassName(\"prompt\");\n",
       "hideElements(prompt_elements, 0)"
      ],
      "text/plain": [
       "<IPython.core.display.Javascript object>"
      ]
     },
     "metadata": {},
     "output_type": "display_data"
    }
   ],
   "source": [
    "%%javascript\n",
    "function hideElements(elements, start) {\n",
    "    for(var i = 0, length = elements.length; i < length;i++) {\n",
    "        if(i >= start) {\n",
    "            elements[i].style.display = \"none\";\n",
    "        }\n",
    "    }\n",
    "}\n",
    "\n",
    "var prompt_elements = document.getElementsByClassName(\"prompt\");\n",
    "hideElements(prompt_elements, 0)"
   ]
  }
 ],
 "metadata": {
  "kernelspec": {
   "display_name": "Python 3",
   "language": "python",
   "name": "python3"
  },
  "language_info": {
   "codemirror_mode": {
    "name": "ipython",
    "version": 3
   },
   "file_extension": ".py",
   "mimetype": "text/x-python",
   "name": "python",
   "nbconvert_exporter": "python",
   "pygments_lexer": "ipython3",
   "version": "3.6.4"
  },
  "livereveal": {
   "autolaunch": false,
   "footer": "<img src='images/UT.png' width='220'>",
   "progress": true,
   "scroll": true,
   "theme": "simple"
  }
 },
 "nbformat": 4,
 "nbformat_minor": 2
}
