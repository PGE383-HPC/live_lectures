{
 "cells": [
  {
   "cell_type": "markdown",
   "metadata": {
    "slideshow": {
     "slide_type": "slide"
    }
   },
   "source": [
    "# SciPy:  Scientific Toolkit\n"
   ]
  },
  {
   "cell_type": "markdown",
   "metadata": {
    "slideshow": {
     "slide_type": "slide"
    }
   },
   "source": [
    "# SciPy\n",
    "\n",
    " * SciPy is a collection of mathematical algorithms and convience functions built on Numpy data structures\n",
    " * Organized into subpackages covering different scientific computing areas\n",
    " * A data-processing and prototyping environment rivaling MATLAB\n"
   ]
  },
  {
   "cell_type": "markdown",
   "metadata": {
    "slideshow": {
     "slide_type": "slide"
    }
   },
   "source": [
    "# SciPy Submodules\n",
    "\n",
    "* Special functions (`scipy.special`) \n",
    "* Integration (`scipy.integrate`) \n",
    "* Optimization (`scipy.optimize`) \n",
    "* Interpolation (`scipy.interpolate`)\n",
    "* Fourier Transforms (`scipy.fftpack`) \n",
    "* Signal Processing (`scipy.signal`)\n",
    "* Linear Algebra (`scipy.linalg`)\n",
    "* Sparse Eigenvalue Problems with ARPACK Compressed Sparse Graph Routines (`scipy.sparse.csgraph`)\n",
    "* Statistics (`scipy.stats`)\n",
    "* Multi-dimensional image processing (`scipy.ndimage`) \n",
    "* File IO (`scipy.io`)\n",
    "* Weave (`scipy.weave`)\n",
    "* And more. . .\n"
   ]
  },
  {
   "cell_type": "markdown",
   "metadata": {
    "slideshow": {
     "slide_type": "slide"
    }
   },
   "source": [
    "# Common submodules: `scipy.integrate`\n",
    "\n",
    "Integrate the function:\n",
    "\n",
    "$$\n",
    "f(x) = \\int_{0}^4 x^2 {\\rm d}x\n",
    "$$\n"
   ]
  },
  {
   "cell_type": "code",
   "execution_count": 1,
   "metadata": {
    "hide_input": false
   },
   "outputs": [
    {
     "data": {
      "text/plain": [
       "21.333333333333336"
      ]
     },
     "execution_count": 1,
     "metadata": {},
     "output_type": "execute_result"
    }
   ],
   "source": [
    "import scipy.integrate\n",
    "ans, err = scipy.integrate.quad(lambda x: x ** 2, 0., 4)\n",
    "ans"
   ]
  },
  {
   "cell_type": "markdown",
   "metadata": {},
   "source": [
    "See also: `dblquad`, `tplquad`, `fixed_quad`, `trapz`, `simps`\n"
   ]
  },
  {
   "cell_type": "markdown",
   "metadata": {
    "slideshow": {
     "slide_type": "slide"
    }
   },
   "source": [
    "# Common submodules: `scipy.linalg`\n",
    "\n",
    "### Matrix Inverse\n"
   ]
  },
  {
   "cell_type": "code",
   "execution_count": 2,
   "metadata": {
    "hide_input": false
   },
   "outputs": [
    {
     "data": {
      "text/plain": [
       "array([[ 2.09386567,  0.18794291, -2.33891785],\n",
       "       [ 4.50278126, -2.39788758, -1.04738682],\n",
       "       [-6.0432121 ,  2.88320448,  3.46459537]])"
      ]
     },
     "execution_count": 2,
     "metadata": {},
     "output_type": "execute_result"
    }
   ],
   "source": [
    "import numpy as np\n",
    "import scipy.linalg\n",
    "a = np.random.rand(3,3)\n",
    "scipy.linalg.inv(a)"
   ]
  },
  {
   "cell_type": "markdown",
   "metadata": {},
   "source": [
    "### Eigenvalues\n"
   ]
  },
  {
   "cell_type": "code",
   "execution_count": 3,
   "metadata": {
    "hide_input": false
   },
   "outputs": [
    {
     "data": {
      "text/plain": [
       "array([ 2.08083995+0.j,  0.16847753+0.j, -0.30717139+0.j])"
      ]
     },
     "execution_count": 3,
     "metadata": {},
     "output_type": "execute_result"
    }
   ],
   "source": [
    "scipy.linalg.eigvals(a)"
   ]
  },
  {
   "cell_type": "markdown",
   "metadata": {
    "slideshow": {
     "slide_type": "slide"
    }
   },
   "source": [
    "# Common submodules: `scipy.interpolate`\n"
   ]
  },
  {
   "cell_type": "markdown",
   "metadata": {},
   "source": [
    "### Interpolate a function\n"
   ]
  },
  {
   "cell_type": "code",
   "execution_count": 4,
   "metadata": {
    "hide_input": false
   },
   "outputs": [
    {
     "data": {
      "text/plain": [
       "<scipy.interpolate.interpolate.interp1d at 0x1127a2728>"
      ]
     },
     "execution_count": 4,
     "metadata": {},
     "output_type": "execute_result"
    }
   ],
   "source": [
    "import numpy as np\n",
    "from scipy import interpolate, integrate\n",
    "x = np.arange(-1,11)\n",
    "y = np.exp(-x/3.0)\n",
    "f = interpolate.interp1d(x,y); f"
   ]
  },
  {
   "cell_type": "markdown",
   "metadata": {},
   "source": [
    "### Integrate the interpolated function\n"
   ]
  },
  {
   "cell_type": "code",
   "execution_count": 5,
   "metadata": {
    "hide_input": false
   },
   "outputs": [
    {
     "data": {
      "text/plain": [
       "2.9197153790964223"
      ]
     },
     "execution_count": 5,
     "metadata": {},
     "output_type": "execute_result"
    }
   ],
   "source": [
    "ans, err = integrate.quad(f,0,10); ans"
   ]
  },
  {
   "cell_type": "markdown",
   "metadata": {},
   "source": [
    "### Integrate the data\n"
   ]
  },
  {
   "cell_type": "code",
   "execution_count": 6,
   "metadata": {
    "hide_input": false
   },
   "outputs": [
    {
     "data": {
      "text/plain": [
       "2.8550038226912573"
      ]
     },
     "execution_count": 6,
     "metadata": {},
     "output_type": "execute_result"
    }
   ],
   "source": [
    "integrate.simps(y[1:-1],x[1:-1])"
   ]
  },
  {
   "cell_type": "markdown",
   "metadata": {
    "slideshow": {
     "slide_type": "slide"
    }
   },
   "source": [
    "# Why Python/Numpy/SciPy?\n",
    "\n",
    "* A *free* alternative to MATLAB\n",
    "\n",
    "* The power of the full Python language\n",
    "     * Object-oriented \n",
    "     * Procedural \n",
    "     * Functional (almost)\n",
    "     \n",
    "     \n",
    "* More reasons come: \n",
    "     * MATLAB-like plotting\n",
    "     * Call C/C++/Fortran code directly\n",
    "     * MPI-style parallel programming\n"
   ]
  },
  {
   "cell_type": "code",
   "execution_count": null,
   "metadata": {
    "hide_input": true,
    "init_cell": true,
    "slideshow": {
     "slide_type": "skip"
    }
   },
   "outputs": [],
   "source": [
    "%%javascript\n",
    "function hideElements(elements, start) {\n",
    "    for(var i = 0, length = elements.length; i < length;i++) {\n",
    "        if(i >= start) {\n",
    "            elements[i].style.display = \"none\";\n",
    "        }\n",
    "    }\n",
    "}\n",
    "\n",
    "var prompt_elements = document.getElementsByClassName(\"prompt\");\n",
    "hideElements(prompt_elements, 0)"
   ]
  }
 ],
 "metadata": {
  "celltoolbar": "Slideshow",
  "kernelspec": {
   "display_name": "Python 3",
   "language": "python",
   "name": "python3"
  },
  "language_info": {
   "codemirror_mode": {
    "name": "ipython",
    "version": 3
   },
   "file_extension": ".py",
   "mimetype": "text/x-python",
   "name": "python",
   "nbconvert_exporter": "python",
   "pygments_lexer": "ipython3",
   "version": "3.6.4"
  },
  "livereveal": {
   "autolaunch": true,
   "footer": "<img src='images/UT.png' width='220'>",
   "progress": true,
   "scroll": true,
   "theme": "simple"
  }
 },
 "nbformat": 4,
 "nbformat_minor": 2
}
