{
 "cells": [
  {
   "cell_type": "markdown",
   "metadata": {
    "slideshow": {
     "slide_type": "slide"
    }
   },
   "source": [
    "# Trilinos and PyTrilinos: An overview\n"
   ]
  },
  {
   "cell_type": "markdown",
   "metadata": {
    "slideshow": {
     "slide_type": "subslide"
    }
   },
   "source": [
    "# The Trilinos Project\n",
    "\n",
    "* Open source libraries for scientific computation \n",
    "* Loosely translated \"a string of pearls\"\n",
    "* Organized on the concept of \"packages\" \n",
    "* Philosophy: \n",
    "   * Minimize package interdependence \n",
    "   * Maximize package interoperability\n",
    "\n",
    "* URL: https://trilinos.org/\n",
    "\n",
    "<table>\n",
    "    <tr style=\"background-color:transparent\">\n",
    "        <td><img src=\"images/trilinos.png\" width=300/></td>\n",
    "    </tr>\n",
    "</table>\n"
   ]
  },
  {
   "cell_type": "markdown",
   "metadata": {
    "slideshow": {
     "slide_type": "slide"
    }
   },
   "source": [
    "# Packages: Linear Algebra Services\n",
    "\n",
    "* Epetra \n",
    "* Tpetra \n",
    "* EpetraExt\n",
    "* Teuchos\n",
    "* Kokkos\n"
   ]
  },
  {
   "cell_type": "markdown",
   "metadata": {
    "slideshow": {
     "slide_type": "subslide"
    }
   },
   "source": [
    "# Solvers and Preconditioners\n",
    "\n",
    "* Linear Solvers \n",
    "  * Amesos\n",
    "  * AztecOO \n",
    "  * Belos \n",
    "  * Komplex\n",
    "\n",
    "* Nonlinear Solvers \n",
    "  * NOX\n",
    "\n",
    "* Others \n",
    "  * Anasazi\n",
    "  * Rythmos \n",
    "  * MOOCHO\n",
    "\n",
    "* Preconditioners\n",
    "  * IFPACK \n",
    "  * ML\n"
   ]
  },
  {
   "cell_type": "markdown",
   "metadata": {
    "slideshow": {
     "slide_type": "subslide"
    }
   },
   "source": [
    "# Tools and Utilities\n",
    "\n",
    "* Teuchos \n",
    "* Isorropia \n",
    "* PyTrilinos\n"
   ]
  },
  {
   "cell_type": "markdown",
   "metadata": {
    "slideshow": {
     "slide_type": "slide"
    }
   },
   "source": [
    "# PyTrilinos\n",
    "\n",
    "* Python wrappers for many useful Trilinos packages \n",
    "* Uses SWIG for wrapper generation\n",
    "* Fully compatible with Numpy\n"
   ]
  },
  {
   "cell_type": "code",
   "execution_count": 2,
   "metadata": {
    "hide_input": false,
    "slideshow": {
     "slide_type": "-"
    }
   },
   "outputs": [
    {
     "name": "stdout",
     "output_type": "stream",
     "text": [
      "Overwriting helloPyTri.py\n"
     ]
    }
   ],
   "source": [
    "%%file helloPyTri.py\n",
    "#!/usr/bin/env python\n",
    "from PyTrilinos import Epetra\n",
    "comm = Epetra.PyComm()\n",
    "print(\"Hello, World! My processor number is: \" +  str(comm.MyPID()))"
   ]
  },
  {
   "cell_type": "code",
   "execution_count": 8,
   "metadata": {
    "hide_input": false,
    "slideshow": {
     "slide_type": "-"
    }
   },
   "outputs": [
    {
     "name": "stdout",
     "output_type": "stream",
     "text": [
      "Hello, World! My processor number is: 0\r\n",
      "Hello, World! My processor number is: 1\r\n"
     ]
    }
   ],
   "source": [
    "!mpiexec -np 2 python helloPyTri.py"
   ]
  },
  {
   "cell_type": "code",
   "execution_count": 7,
   "metadata": {
    "hide_input": true,
    "init_cell": true,
    "slideshow": {
     "slide_type": "skip"
    }
   },
   "outputs": [
    {
     "data": {
      "application/javascript": [
       "function hideElements(elements, start) {\n",
       "    for(var i = 0, length = elements.length; i < length;i++) {\n",
       "        if(i >= start) {\n",
       "            elements[i].style.display = \"none\";\n",
       "        }\n",
       "    }\n",
       "}\n",
       "\n",
       "var prompt_elements = document.getElementsByClassName(\"prompt\");\n",
       "hideElements(prompt_elements, 0)"
      ],
      "text/plain": [
       "<IPython.core.display.Javascript object>"
      ]
     },
     "metadata": {},
     "output_type": "display_data"
    }
   ],
   "source": [
    "%%javascript\n",
    "function hideElements(elements, start) {\n",
    "    for(var i = 0, length = elements.length; i < length;i++) {\n",
    "        if(i >= start) {\n",
    "            elements[i].style.display = \"none\";\n",
    "        }\n",
    "    }\n",
    "}\n",
    "\n",
    "var prompt_elements = document.getElementsByClassName(\"prompt\");\n",
    "hideElements(prompt_elements, 0)"
   ]
  }
 ],
 "metadata": {
  "kernelspec": {
   "display_name": "Python 3",
   "language": "python",
   "name": "python3"
  },
  "language_info": {
   "codemirror_mode": {
    "name": "ipython",
    "version": 3
   },
   "file_extension": ".py",
   "mimetype": "text/x-python",
   "name": "python",
   "nbconvert_exporter": "python",
   "pygments_lexer": "ipython3",
   "version": "3.6.4"
  },
  "livereveal": {
   "autolaunch": true,
   "footer": "<img src='images/UT.png' width='220'>",
   "progress": true,
   "scroll": true,
   "theme": "simple"
  }
 },
 "nbformat": 4,
 "nbformat_minor": 2
}
