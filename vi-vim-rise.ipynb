{
 "cells": [
  {
   "cell_type": "markdown",
   "metadata": {
    "slideshow": {
     "slide_type": "slide"
    }
   },
   "source": [
    "# The `vi/vim` editor\n"
   ]
  },
  {
   "cell_type": "markdown",
   "metadata": {
    "slideshow": {
     "slide_type": "slide"
    }
   },
   "source": [
    "# `vi`\n",
    "\n",
    "* THE standard UNIX file editor\n",
    "    * Originally written by Bill Joy (of Sun Microsystems fame) when he was a student at Berkley working on BSD UNIX\n",
    "* Found by default on virtually every UNIX system \n",
    "* `vim` is *vi* i*m*proved\n",
    "    * Written by Bram Moolenaar\n",
    "    * Standard editor on most Linux systems.\n",
    "    * Today `vi` and `vim` are usually spoken interchangeably to mean `vim`.\n",
    "* To edit a file type: `vi filename`\n"
   ]
  },
  {
   "cell_type": "markdown",
   "metadata": {
    "slideshow": {
     "slide_type": "slide"
    }
   },
   "source": [
    "# Modes\n",
    "\n",
    "* Normal Mode\n",
    "    * Move around file\n",
    "    * Copy and paste text \n",
    "    * Search and replace\n",
    "* Insert Mode \n",
    "    * Insert text\n",
    "* `ex` or Last Line Mode\n",
    "    * Save and exit\n",
    "    * Run shell commands\n"
   ]
  },
  {
   "cell_type": "markdown",
   "metadata": {
    "slideshow": {
     "slide_type": "subslide"
    }
   },
   "source": [
    "# Enter Insert Mode from Normal Mode\n",
    "\n",
    "| Command | Function |\n",
    "|---------|----------|\n",
    "|`i`| **i**nsert text left of cursor |\n",
    "|`a`| **a**ppend text right of cursor |\n",
    "|`I`| **I**nsert text at beginning of line |\n",
    "|`A`| **A**ppend text to the end of line |\n",
    "|`o`| **o**pen new line below current line |\n",
    "|`O`| **O**pen new line above current line |\n",
    "|`r`| **r**eplace a single character under cursor |\n",
    "|`R`| **R**eplace all text to the right of cursor (overwriting) |\n",
    "|`s`| replace a **s**ingle character under cursor and stay in Insert Mode|\n",
    "|`S`| replace a **S**ingle character under cursor and all other characters to the end of the line |\n"
   ]
  },
  {
   "cell_type": "markdown",
   "metadata": {
    "slideshow": {
     "slide_type": "subslide"
    }
   },
   "source": [
    "# Navigation (Normal Mode)\n"
   ]
  },
  {
   "cell_type": "markdown",
   "metadata": {
    "slideshow": {
     "slide_type": "fragment"
    }
   },
   "source": [
    "# Relative Movement\n",
    "\n",
    "|Command | Function |\n",
    "|--------|----------|\n",
    "|`h` | moves cursor left |\n",
    "|`l` | moves cursor right |\n",
    "|`5l` | moves cursor 5 characters right |\n",
    "|`k` | moves cursor up |\n",
    "|`7k` | moves cursor 7 lines up |\n",
    "|`j` | moves cursor down |\n"
   ]
  },
  {
   "cell_type": "markdown",
   "metadata": {
    "slideshow": {
     "slide_type": "fragment"
    }
   },
   "source": [
    "## Word Navigation\n",
    "\n",
    "|Command | Function |\n",
    "|--------|----------|\n",
    "|`b` | moves **b**ack to beginning of word |\n",
    "|`4b` | moves **b**ack **4** words to beginning of word |\n",
    "|`e` | moves forward to the **e**nd of a word |\n",
    "|`w` | moves forward to the beginning of a **w**ord |\n",
    "|`8w`| moves forward to the beginning of the **8**th **w**ord |\n"
   ]
  },
  {
   "cell_type": "markdown",
   "metadata": {
    "slideshow": {
     "slide_type": "subslide"
    }
   },
   "source": [
    "# More Navigation (Normal Mode)\n"
   ]
  },
  {
   "cell_type": "markdown",
   "metadata": {
    "slideshow": {
     "slide_type": "fragment"
    }
   },
   "source": [
    "## Absolute Navigation\n",
    "\n",
    "| Command | Function |\n",
    "|---------|----------|\n",
    "|`0 or` &#124; | moves to beginning of line |\n",
    "|`30`&#124; | moves to column 30|\n",
    "|`^` (not Ctrl)| moves to first word in line|\n",
    "|`$`| moves to end of line|\n",
    "|`1G` | moves to begging of file |\n",
    "|`40G` | moves to 40th line |\n",
    "|`G` | moves to end of file |\n"
   ]
  },
  {
   "cell_type": "markdown",
   "metadata": {
    "slideshow": {
     "slide_type": "slide"
    }
   },
   "source": [
    "# Scrolling (Normal Mode)\n",
    "\n",
    "| Command  | Function |\n",
    "|----------|----------|\n",
    "| `^-f` | scrolls full page forward |\n",
    "| `5^-f` | scrolls 5 full pages forward |\n",
    "| `^-b` | scrolls full page back |\n",
    "| `^-d` | scrolls half page forward |\n",
    "| `^-u` | scrolls half page back |\n",
    "| `^-l` | redraws the screen |\n",
    "\n",
    "* `^` = Ctrl key\n"
   ]
  },
  {
   "cell_type": "markdown",
   "metadata": {
    "slideshow": {
     "slide_type": "slide"
    }
   },
   "source": [
    "# Simple text editing (Normal Mode)\n"
   ]
  },
  {
   "cell_type": "markdown",
   "metadata": {
    "slideshow": {
     "slide_type": "fragment"
    }
   },
   "source": [
    "## Deleting text\n",
    "\n",
    "| Command | Function |\n",
    "|-|-|\n",
    "| `x` | deletes single character under cursor |\n",
    "| `X` | delete text left of the cursor |\n",
    "| `dd` | delete entire line |\n"
   ]
  },
  {
   "cell_type": "markdown",
   "metadata": {
    "slideshow": {
     "slide_type": "fragment"
    }
   },
   "source": [
    "## Moving text\n",
    "\n",
    "| Command | Function |\n",
    "|-|-|\n",
    "|`p`| **p**uts text to right of cursor |\n",
    "|`P`| **P**uts text to left of cursor |\n",
    "|`J`| **J**oin the current line with the one below |\n"
   ]
  },
  {
   "cell_type": "markdown",
   "metadata": {
    "slideshow": {
     "slide_type": "slide"
    }
   },
   "source": [
    "# Editing text with operators (Normal Mode)\n"
   ]
  },
  {
   "cell_type": "markdown",
   "metadata": {
    "slideshow": {
     "slide_type": "fragment"
    }
   },
   "source": [
    "## Memorize the following operators \n",
    "\n",
    " * `d` – Delete\n",
    " * `y` – Yank (copy) \n",
    " * `c` – Change\n"
   ]
  },
  {
   "cell_type": "markdown",
   "metadata": {
    "slideshow": {
     "slide_type": "fragment"
    }
   },
   "source": [
    "## Use in combination with other commands\n",
    "\n",
    "| Command | Function |\n",
    "|-|-|\n",
    "|`d$` or `D` | deletes from the cursor to end of line |\n",
    "|`5dd` | deletes five lines |\n",
    "|`d30G` |  deletes up to line number 30|\n",
    "|`y$` or `Y` | yanks from the cursor to end of line |\n",
    "|`3yw` | yanks 3 words from cursor position |\n",
    "|`c0` | changes from cursor to beginning of line (replace) |\n",
    "|`2cw` | changes 2 words from cursor position |\n"
   ]
  },
  {
   "cell_type": "markdown",
   "metadata": {
    "slideshow": {
     "slide_type": "slide"
    }
   },
   "source": [
    "# Copy buffers\n",
    "\n",
    "* Used to store multiple yanks\n",
    "\n",
    "* Used to copy/paste between files\n",
    "    * Use `:e foo` to switch to file `foo`\n",
    "    * Use `:e#` or `Ctrl-^` to toggle between current and previous file \n",
    "\n",
    "* Yank to buffers with `\"ayy`\n",
    "\n",
    "    * Yanks the current line into buffer `a`\n",
    "    * There are 26 buffers `a, b, c, ...`, etc.\n",
    "    * Previous 9 yanks are automatically stored in the buffers `1, 2, 3, ...` \n",
    "    \n",
    "* Paste from buffers with `\"ap`\n",
    "* puts the buffer `a` to the right of the cursor\n"
   ]
  },
  {
   "cell_type": "markdown",
   "metadata": {
    "slideshow": {
     "slide_type": "slide"
    }
   },
   "source": [
    "# Search and replace\n",
    "\n",
    "|Command | Function |\n",
    "|-|-|\n",
    "|/pat | searches forward for `pat`|\n",
    "|?pat| searches backward for `pat`|\n",
    "|`n`| repeats search in same direction |\n",
    "|`N`| repeats search in opposite direction |\n",
    "|`:n1,n2s/s1/s2` |  replaces first occurrence of string or regular expression `s1` with string `s2` in lines `n1` to `n2`|\n",
    " |`:%s/find/look/g`| bars all occurances of find |\n"
   ]
  },
  {
   "cell_type": "markdown",
   "metadata": {
    "slideshow": {
     "slide_type": "fragment"
    }
   },
   "source": [
    "* Can use visual selection to specify search ranges Visual Selection\n",
    "\n",
    "## Visual selection\n",
    "   \n",
    "|Command |Function|\n",
    "|-|-|\n",
    "|`v` |activates character-by-character highlighting|\n",
    "|`V`| activates line-by-line highlighting|\n"
   ]
  },
  {
   "cell_type": "markdown",
   "metadata": {
    "slideshow": {
     "slide_type": "slide"
    }
   },
   "source": [
    "# Other useful editing commands\n",
    "\n",
    "|Command | Function|\n",
    "|-|-|\n",
    "|`u`| undo last command|\n",
    "|`U`| undo all changes to line|\n",
    "|`.` (period) | repeat last command |\n",
    "|`:ab` | create shortcut |\n",
    "|`:ab fb foobar`| shortcuts key sequence fb to foo|\n"
   ]
  },
  {
   "cell_type": "markdown",
   "metadata": {
    "slideshow": {
     "slide_type": "slide"
    }
   },
   "source": [
    "# `ex` Mode Commands\n",
    "\n",
    "|Command | Function |\n",
    "|-|-|\n",
    "|`:w`| saves file and remains in insert mode|\n",
    "|`:x` or `:wq` | saves file and quits insert mode |\n",
    "|`:w` newfile \"save as\", creates newfile|\n",
    "|`:w!` | as above, but overwrite existing file |\n",
    "|`:q` | quits vi/vim |\n",
    "|`:q!` | quits without making changes |\n",
    "|`:!cmd` | runs shell `cmd` and returns |\n"
   ]
  },
  {
   "cell_type": "markdown",
   "metadata": {
    "slideshow": {
     "slide_type": "slide"
    }
   },
   "source": [
    "# Tips\n",
    "\n",
    "* The earlier you get used to navigating with `j`,`k`,`l`,`m`, etc. the better.\n",
    "    * Don’t use the arrow keys!\n",
    "    * Turn them off in your `.vimrc` file. (more on that later)\n",
    "* Customize your settings (again `.vimrc`) Learn about vim plugins\n"
   ]
  },
  {
   "cell_type": "markdown",
   "metadata": {
    "slideshow": {
     "slide_type": "slide"
    }
   },
   "source": [
    "# Other editors\n",
    "\n",
    "* [GNU Emacs](https://www.gnu.org/software/emacs/)\n",
    "* [Sublime Text](https://www.sublimetext.com/) (Native Mac Application Only)\n",
    "* [Atom](https://atom.io/)\n"
   ]
  },
  {
   "cell_type": "code",
   "execution_count": null,
   "metadata": {
    "collapsed": true,
    "hide_input": true,
    "slideshow": {
     "slide_type": "skip"
    }
   },
   "outputs": [],
   "source": [
    "%%javascript\n",
    "function hideElements(elements, start) {\n",
    "    for(var i = 0, length = elements.length; i < length;i++) {\n",
    "        if(i >= start) {\n",
    "            elements[i].style.display = \"none\";\n",
    "        }\n",
    "    }\n",
    "}\n",
    "\n",
    "var prompt_elements = document.getElementsByClassName(\"prompt\");\n",
    "hideElements(prompt_elements, 0)"
   ]
  }
 ],
 "metadata": {
  "celltoolbar": "Slideshow",
  "kernelspec": {
   "display_name": "Python 3",
   "language": "python",
   "name": "python3"
  },
  "language_info": {
   "codemirror_mode": {
    "name": "ipython",
    "version": 3
   },
   "file_extension": ".py",
   "mimetype": "text/x-python",
   "name": "python",
   "nbconvert_exporter": "python",
   "pygments_lexer": "ipython3",
   "version": "3.5.2"
  },
  "livereveal": {
   "footer": "<img src='images/UT.png' width='220'>",
   "progress": true,
   "scroll": true,
   "theme": "simple"
  }
 },
 "nbformat": 4,
 "nbformat_minor": 2
}
